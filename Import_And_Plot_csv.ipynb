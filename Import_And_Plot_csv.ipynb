{
 "cells": [
  {
   "cell_type": "markdown",
   "id": "51506a94-c1a2-4575-9781-72d3544f8732",
   "metadata": {},
   "source": [
    "# Load, process and Plot CSV files"
   ]
  },
  {
   "cell_type": "markdown",
   "id": "de0c2585-5759-4dd8-ac6d-fbf6ec81ef52",
   "metadata": {},
   "source": [
    "# 1. Notebook Preparation"
   ]
  },
  {
   "cell_type": "markdown",
   "id": "lucky-university",
   "metadata": {},
   "source": [
    "## 1.1 Import libraries"
   ]
  },
  {
   "cell_type": "code",
   "execution_count": 1,
   "id": "damaged-plymouth",
   "metadata": {},
   "outputs": [
    {
     "data": {
      "text/html": [
       "        <script type=\"text/javascript\">\n",
       "        window.PlotlyConfig = {MathJaxConfig: 'local'};\n",
       "        if (window.MathJax) {MathJax.Hub.Config({SVG: {font: \"STIX-Web\"}});}\n",
       "        if (typeof require !== 'undefined') {\n",
       "        require.undef(\"plotly\");\n",
       "        requirejs.config({\n",
       "            paths: {\n",
       "                'plotly': ['https://cdn.plot.ly/plotly-latest.min']\n",
       "            }\n",
       "        });\n",
       "        require(['plotly'], function(Plotly) {\n",
       "            window._Plotly = Plotly;\n",
       "        });\n",
       "        }\n",
       "        </script>\n",
       "        "
      ]
     },
     "metadata": {},
     "output_type": "display_data"
    },
    {
     "data": {
      "text/html": [
       "        <script type=\"text/javascript\">\n",
       "        window.PlotlyConfig = {MathJaxConfig: 'local'};\n",
       "        if (window.MathJax) {MathJax.Hub.Config({SVG: {font: \"STIX-Web\"}});}\n",
       "        if (typeof require !== 'undefined') {\n",
       "        require.undef(\"plotly\");\n",
       "        requirejs.config({\n",
       "            paths: {\n",
       "                'plotly': ['https://cdn.plot.ly/plotly-latest.min']\n",
       "            }\n",
       "        });\n",
       "        require(['plotly'], function(Plotly) {\n",
       "            window._Plotly = Plotly;\n",
       "        });\n",
       "        }\n",
       "        </script>\n",
       "        "
      ]
     },
     "metadata": {},
     "output_type": "display_data"
    }
   ],
   "source": [
    "#General\n",
    "import os\n",
    "import glob\n",
    "import numpy as np\n",
    "import pandas as pd\n",
    "import dtale\n",
    "\n",
    "#Plotly libraries\n",
    "import plotly.graph_objs as go\n",
    "import plotly\n",
    "import cufflinks as cf\n",
    "from plotly.subplots import make_subplots\n",
    "from plotly.offline import download_plotlyjs, init_notebook_mode, plot, iplot\n",
    "#Plotly Initialization for Jupyter notebook\n",
    "init_notebook_mode(connected=True)\n",
    "cf.go_offline()"
   ]
  },
  {
   "cell_type": "markdown",
   "id": "138f2a1c-f1e1-4ce9-8db6-39c6150698c4",
   "metadata": {
    "tags": []
   },
   "source": [
    "## 1.2 Functions"
   ]
  },
  {
   "cell_type": "code",
   "execution_count": 2,
   "id": "1a8205d7-c10b-40e9-b6fb-21a868376946",
   "metadata": {},
   "outputs": [
    {
     "data": {
      "text/html": [
       "        <script type=\"text/javascript\">\n",
       "        window.PlotlyConfig = {MathJaxConfig: 'local'};\n",
       "        if (window.MathJax) {MathJax.Hub.Config({SVG: {font: \"STIX-Web\"}});}\n",
       "        if (typeof require !== 'undefined') {\n",
       "        require.undef(\"plotly\");\n",
       "        requirejs.config({\n",
       "            paths: {\n",
       "                'plotly': ['https://cdn.plot.ly/plotly-latest.min']\n",
       "            }\n",
       "        });\n",
       "        require(['plotly'], function(Plotly) {\n",
       "            window._Plotly = Plotly;\n",
       "        });\n",
       "        }\n",
       "        </script>\n",
       "        "
      ]
     },
     "metadata": {},
     "output_type": "display_data"
    },
    {
     "data": {
      "text/html": [
       "        <script type=\"text/javascript\">\n",
       "        window.PlotlyConfig = {MathJaxConfig: 'local'};\n",
       "        if (window.MathJax) {MathJax.Hub.Config({SVG: {font: \"STIX-Web\"}});}\n",
       "        if (typeof require !== 'undefined') {\n",
       "        require.undef(\"plotly\");\n",
       "        requirejs.config({\n",
       "            paths: {\n",
       "                'plotly': ['https://cdn.plot.ly/plotly-latest.min']\n",
       "            }\n",
       "        });\n",
       "        require(['plotly'], function(Plotly) {\n",
       "            window._Plotly = Plotly;\n",
       "        });\n",
       "        }\n",
       "        </script>\n",
       "        "
      ]
     },
     "metadata": {},
     "output_type": "display_data"
    }
   ],
   "source": [
    "os.chdir(r'C:\\Users\\m0081459\\Documents\\Jupyter') #Copy directory where other ipynb are located\n",
    "%run -i Functions.ipynb\n",
    "%run -i Columns.ipynb"
   ]
  },
  {
   "cell_type": "markdown",
   "id": "established-examination",
   "metadata": {},
   "source": [
    "# 2. Load files and set folder location"
   ]
  },
  {
   "cell_type": "markdown",
   "id": "liked-minnesota",
   "metadata": {
    "tags": []
   },
   "source": [
    "## 2.1 Request and retrieve logs"
   ]
  },
  {
   "cell_type": "code",
   "execution_count": 36,
   "id": "emotional-pleasure",
   "metadata": {},
   "outputs": [
    {
     "name": "stdout",
     "output_type": "stream",
     "text": [
      "Files Folder\n"
     ]
    },
    {
     "ename": "KeyboardInterrupt",
     "evalue": "Interrupted by user",
     "output_type": "error",
     "traceback": [
      "\u001b[1;31m---------------------------------------------------------------------------\u001b[0m",
      "\u001b[1;31mKeyboardInterrupt\u001b[0m                         Traceback (most recent call last)",
      "\u001b[1;32m<ipython-input-36-13ecbfa38c12>\u001b[0m in \u001b[0;36m<module>\u001b[1;34m\u001b[0m\n\u001b[0;32m      1\u001b[0m \u001b[1;31m#Folder directory\u001b[0m\u001b[1;33m\u001b[0m\u001b[1;33m\u001b[0m\u001b[1;33m\u001b[0m\u001b[0m\n\u001b[0;32m      2\u001b[0m \u001b[0mprint\u001b[0m\u001b[1;33m(\u001b[0m\u001b[1;34m\"Files Folder\"\u001b[0m\u001b[1;33m)\u001b[0m\u001b[1;33m\u001b[0m\u001b[1;33m\u001b[0m\u001b[0m\n\u001b[1;32m----> 3\u001b[1;33m \u001b[0mInDirectory\u001b[0m \u001b[1;33m=\u001b[0m \u001b[0minput\u001b[0m\u001b[1;33m(\u001b[0m\u001b[0mprompt\u001b[0m\u001b[1;33m=\u001b[0m\u001b[1;34m\">>>\"\u001b[0m\u001b[1;33m)\u001b[0m\u001b[1;33m\u001b[0m\u001b[1;33m\u001b[0m\u001b[0m\n\u001b[0m\u001b[0;32m      4\u001b[0m \u001b[0mos\u001b[0m\u001b[1;33m.\u001b[0m\u001b[0mchdir\u001b[0m\u001b[1;33m(\u001b[0m\u001b[0mInDirectory\u001b[0m\u001b[1;33m)\u001b[0m\u001b[1;33m\u001b[0m\u001b[1;33m\u001b[0m\u001b[0m\n\u001b[0;32m      5\u001b[0m \u001b[1;33m\u001b[0m\u001b[0m\n",
      "\u001b[1;32m~\\AppData\\Roaming\\Python\\Python37\\site-packages\\ipykernel\\kernelbase.py\u001b[0m in \u001b[0;36mraw_input\u001b[1;34m(self, prompt)\u001b[0m\n\u001b[0;32m    861\u001b[0m             \u001b[0mself\u001b[0m\u001b[1;33m.\u001b[0m\u001b[0m_parent_ident\u001b[0m\u001b[1;33m,\u001b[0m\u001b[1;33m\u001b[0m\u001b[1;33m\u001b[0m\u001b[0m\n\u001b[0;32m    862\u001b[0m             \u001b[0mself\u001b[0m\u001b[1;33m.\u001b[0m\u001b[0m_parent_header\u001b[0m\u001b[1;33m,\u001b[0m\u001b[1;33m\u001b[0m\u001b[1;33m\u001b[0m\u001b[0m\n\u001b[1;32m--> 863\u001b[1;33m             \u001b[0mpassword\u001b[0m\u001b[1;33m=\u001b[0m\u001b[1;32mFalse\u001b[0m\u001b[1;33m,\u001b[0m\u001b[1;33m\u001b[0m\u001b[1;33m\u001b[0m\u001b[0m\n\u001b[0m\u001b[0;32m    864\u001b[0m         )\n\u001b[0;32m    865\u001b[0m \u001b[1;33m\u001b[0m\u001b[0m\n",
      "\u001b[1;32m~\\AppData\\Roaming\\Python\\Python37\\site-packages\\ipykernel\\kernelbase.py\u001b[0m in \u001b[0;36m_input_request\u001b[1;34m(self, prompt, ident, parent, password)\u001b[0m\n\u001b[0;32m    902\u001b[0m             \u001b[1;32mexcept\u001b[0m \u001b[0mKeyboardInterrupt\u001b[0m\u001b[1;33m:\u001b[0m\u001b[1;33m\u001b[0m\u001b[1;33m\u001b[0m\u001b[0m\n\u001b[0;32m    903\u001b[0m                 \u001b[1;31m# re-raise KeyboardInterrupt, to truncate traceback\u001b[0m\u001b[1;33m\u001b[0m\u001b[1;33m\u001b[0m\u001b[1;33m\u001b[0m\u001b[0m\n\u001b[1;32m--> 904\u001b[1;33m                 \u001b[1;32mraise\u001b[0m \u001b[0mKeyboardInterrupt\u001b[0m\u001b[1;33m(\u001b[0m\u001b[1;34m\"Interrupted by user\"\u001b[0m\u001b[1;33m)\u001b[0m \u001b[1;32mfrom\u001b[0m \u001b[1;32mNone\u001b[0m\u001b[1;33m\u001b[0m\u001b[1;33m\u001b[0m\u001b[0m\n\u001b[0m\u001b[0;32m    905\u001b[0m             \u001b[1;32mexcept\u001b[0m \u001b[0mException\u001b[0m \u001b[1;32mas\u001b[0m \u001b[0me\u001b[0m\u001b[1;33m:\u001b[0m\u001b[1;33m\u001b[0m\u001b[1;33m\u001b[0m\u001b[0m\n\u001b[0;32m    906\u001b[0m                 \u001b[0mself\u001b[0m\u001b[1;33m.\u001b[0m\u001b[0mlog\u001b[0m\u001b[1;33m.\u001b[0m\u001b[0mwarning\u001b[0m\u001b[1;33m(\u001b[0m\u001b[1;34m\"Invalid Message:\"\u001b[0m\u001b[1;33m,\u001b[0m \u001b[0mexc_info\u001b[0m\u001b[1;33m=\u001b[0m\u001b[1;32mTrue\u001b[0m\u001b[1;33m)\u001b[0m\u001b[1;33m\u001b[0m\u001b[1;33m\u001b[0m\u001b[0m\n",
      "\u001b[1;31mKeyboardInterrupt\u001b[0m: Interrupted by user"
     ]
    }
   ],
   "source": [
    "#Folder directory\n",
    "print(\"Files Folder\")\n",
    "InDirectory = input(prompt=\">>>\")\n",
    "os.chdir(InDirectory)\n",
    "\n",
    "#Explore directory and select all files with the given format\n",
    "import_extension = 'csv'\n",
    "files = [i for i in sorted(glob.glob('*.{}'.format(import_extension)), key=os.path.getmtime)] #Change to *.**{} to search in subfolders"
   ]
  },
  {
   "cell_type": "markdown",
   "id": "f1613f59-e83b-43ab-a2bc-610872b158b9",
   "metadata": {},
   "source": [
    "### 2.1.1 Check files uploaded"
   ]
  },
  {
   "cell_type": "code",
   "execution_count": 4,
   "id": "64794aa7-7835-4351-8d97-24e22a7f09f9",
   "metadata": {},
   "outputs": [
    {
     "name": "stdout",
     "output_type": "stream",
     "text": [
      "Files selected:\n",
      "1 - 40.54 MB - Sample 170842 Date 11_19_2021 - Time 10_56_55 AM.csv\n"
     ]
    }
   ],
   "source": [
    "try:\n",
    "    print('Files selected:')\n",
    "    for count,file in enumerate(files):\n",
    "        print(count+1,'-',get_file_size(file),'MB -',file)\n",
    "except:\n",
    "    print('Error','The list of files to import is empty. Click on the Upload File button and select a log file')"
   ]
  },
  {
   "cell_type": "markdown",
   "id": "e515873a-051f-4dc0-92f7-74ba744314b9",
   "metadata": {},
   "source": [
    "## 2.2 Choose the Ouput Directory"
   ]
  },
  {
   "cell_type": "code",
   "execution_count": 5,
   "id": "90ce3a03-45ea-422a-b479-f9e87c6800e9",
   "metadata": {},
   "outputs": [
    {
     "name": "stdin",
     "output_type": "stream",
     "text": [
      "Output Folder:  C:\\Users\\m0081459\\Documents\\Jupyter\\Results\\Pruebas Motilla\\Log Christian\\CSV y Script - Jupyter\n"
     ]
    }
   ],
   "source": [
    "print(\"Output Folder\")\n",
    "OutDirectory = input(prompt=\">>>\")"
   ]
  },
  {
   "cell_type": "markdown",
   "id": "dc2b301d-96d4-4964-95b6-49c3a576d0f5",
   "metadata": {},
   "source": [
    "### 2.2.1 Set and check Output Folder"
   ]
  },
  {
   "cell_type": "code",
   "execution_count": 6,
   "id": "5785ce4d-ac29-4b31-8080-4579ed716a69",
   "metadata": {},
   "outputs": [
    {
     "name": "stdout",
     "output_type": "stream",
     "text": [
      "Output Directory:C:\\Users\\m0081459\\Documents\\Jupyter\\Results\\Pruebas Motilla\\Log Christian\\CSV y Script - Jupyter\n"
     ]
    }
   ],
   "source": [
    "try:\n",
    "    if (OutDirectory == None):\n",
    "        print('Warning','Directory not found. By default, files will be placed in Documents/_Validation/Reports')\n",
    "        OutDirectory = os.path.expanduser('~/Documents')\n",
    "    print('Output Directory:' + OutDirectory)\n",
    "except:\n",
    "    print('Error','Select a valid directory to store output files')"
   ]
  },
  {
   "cell_type": "code",
   "execution_count": 7,
   "id": "6703cd9e-db43-4df0-a9bd-82dd41c9bc91",
   "metadata": {},
   "outputs": [],
   "source": [
    "# Sort files by date\n",
    "import_extension = 'csv'\n",
    "files = [i for i in sorted(glob.glob('*.{}'.format(import_extension)), key=os.path.getmtime)]"
   ]
  },
  {
   "cell_type": "markdown",
   "id": "7bae6ade-e6b1-4399-86d1-39b9e56d3239",
   "metadata": {
    "tags": []
   },
   "source": [
    "## 2.3 Define Test Name"
   ]
  },
  {
   "cell_type": "code",
   "execution_count": 8,
   "id": "1ae59896-23b5-4d34-8617-65dea24a533b",
   "metadata": {},
   "outputs": [
    {
     "name": "stdin",
     "output_type": "stream",
     "text": [
      "Introduce Test Name:  CL10\n"
     ]
    }
   ],
   "source": [
    "print(\"Introduce Test Name\")\n",
    "test = input(prompt=\">>>\")"
   ]
  },
  {
   "cell_type": "markdown",
   "id": "7a080541-d87a-4f44-ac32-8139fa3a9efa",
   "metadata": {
    "tags": []
   },
   "source": [
    "## 2.3 Define Project"
   ]
  },
  {
   "cell_type": "code",
   "execution_count": 9,
   "id": "fe74f090-d682-4311-aac2-f12c791b897b",
   "metadata": {
    "tags": []
   },
   "outputs": [
    {
     "name": "stdout",
     "output_type": "stream",
     "text": [
      "Introduce Project\n",
      "1 :  STEP1\n",
      "2 :  BEV\n",
      "3 :  PHEV\n"
     ]
    },
    {
     "name": "stdin",
     "output_type": "stream",
     "text": [
      ">>> 1\n"
     ]
    },
    {
     "name": "stdout",
     "output_type": "stream",
     "text": [
      "STEP1  selected.\n"
     ]
    }
   ],
   "source": [
    "project = request_project(project_question)"
   ]
  },
  {
   "cell_type": "markdown",
   "id": "f892dcea-f365-4c66-a5a1-5e348c8e666a",
   "metadata": {},
   "source": [
    "## 2.4 Create Output Subfolders"
   ]
  },
  {
   "cell_type": "code",
   "execution_count": 10,
   "id": "another-quest",
   "metadata": {
    "tags": []
   },
   "outputs": [
    {
     "name": "stdout",
     "output_type": "stream",
     "text": [
      "Directory  C:\\Users\\m0081459\\Documents\\Jupyter\\Results\\Pruebas Motilla\\Log Christian\\CSV y Script - Jupyter\\Combined csvs  already exists\n",
      "Directory  C:\\Users\\m0081459\\Documents\\Jupyter\\Results\\Pruebas Motilla\\Log Christian\\CSV y Script - Jupyter\\Plots  already exists\n"
     ]
    }
   ],
   "source": [
    "dirName = OutDirectory + '\\Combined csvs'\n",
    "dirPlot = OutDirectory + '\\Plots'\n",
    "\n",
    "try:\n",
    "    os.mkdir(dirName)\n",
    "    print('Directory ' , dirName, ' Created ') \n",
    "except FileExistsError:\n",
    "    print('Directory ' , dirName, ' already exists')\n",
    "    \n",
    "try:\n",
    "    os.mkdir(dirPlot)\n",
    "    print('Directory ' , dirPlot, ' Created ') \n",
    "except FileExistsError:\n",
    "    print('Directory ' , dirPlot, ' already exists')"
   ]
  },
  {
   "cell_type": "markdown",
   "id": "8abdc11a-a315-46de-b081-44aca7cf8182",
   "metadata": {
    "tags": []
   },
   "source": [
    "## 2.5 Load and combine csv Files"
   ]
  },
  {
   "cell_type": "markdown",
   "id": "5fa1fc26-e141-4a75-984b-e397dbfd6d28",
   "metadata": {},
   "source": [
    "### 2.5.1 Requests Simplification rate"
   ]
  },
  {
   "cell_type": "code",
   "execution_count": 11,
   "id": "eb9aa7d3-e3b4-4de3-a9ac-c55cf0df048d",
   "metadata": {
    "tags": []
   },
   "outputs": [
    {
     "name": "stdout",
     "output_type": "stream",
     "text": [
      "Introduce Simplification rate: \n"
     ]
    },
    {
     "name": "stdin",
     "output_type": "stream",
     "text": [
      ">>> 20\n"
     ]
    }
   ],
   "source": [
    "#Request simplification rate\n",
    "prompt = \">>>\"\n",
    "print(\"Introduce Simplification rate: \")\n",
    "try:\n",
    "    simplification_rate = int(input(prompt=prompt))\n",
    "except ValueError:\n",
    "    print(\"Invalid number. Simplification rate set to 10.\")\n",
    "    simplification_rate = 10"
   ]
  },
  {
   "cell_type": "markdown",
   "id": "1d114724-f833-49fd-b4d3-25c44df96425",
   "metadata": {},
   "source": [
    "### 2.5.2 Import CSV"
   ]
  },
  {
   "cell_type": "code",
   "execution_count": 12,
   "id": "aaa48a33-60f1-4653-82f7-693587a270d5",
   "metadata": {},
   "outputs": [],
   "source": [
    "df = pd.concat([pd.read_csv(f, sep=';', low_memory=False, thousands='.', decimal=',',error_bad_lines=False, lineterminator='\\n') for f in files])\n",
    "\n",
    "#Clean up the file\n",
    "df = df[pd.notnull(df['Time'])] #Remove rows where the column Time contains NaN values\n",
    "\n",
    "#If the sampling rate is to high use the simplifacation rate variable to reduce the number of data points to plot\n",
    "df = df.iloc[np.arange(0,df.shape[0], simplification_rate)] #Filters only 1 out of X rows to speed up the ploting process\n",
    "df['Measurement'] = np.arange(0,df.shape[0])\n",
    "df = df.reset_index(drop=True)"
   ]
  },
  {
   "cell_type": "markdown",
   "id": "fda2058a-ba15-484f-b884-472baa83fb1b",
   "metadata": {},
   "source": [
    "# 3. DataFrame Processing"
   ]
  },
  {
   "cell_type": "markdown",
   "id": "d5d97e3c-d0fd-42f7-9a68-a20b9c5ef45d",
   "metadata": {
    "tags": []
   },
   "source": [
    "## 3.1 Prepare dataframe"
   ]
  },
  {
   "cell_type": "code",
   "execution_count": 13,
   "id": "6ce3176d-384d-450f-937b-f41b908bc323",
   "metadata": {},
   "outputs": [],
   "source": [
    "#Prepare signals\n",
    "if 'OBC_Fault' in df: \n",
    "    df['OBC_Fault'] = df['OBC_Fault'].map({0:0, 64:1, 128:2, 255:3}) #Map signal OBC Fault\n",
    "if 'OBC_PowerMax' in df: \n",
    "    df['OBC_PowerMax'] = df['OBC_PowerMax']/1000; #Convert to kW\n",
    "\n",
    "#Create a new column that shows total test time\n",
    "df['Test_time'] = df['Measurement'] * simplification_rate / 3600 #Time from the beginning of the test in hours\n",
    "\n",
    "#Create a column with datatime format\n",
    "data_time = df['Date'] + \" \" + df['Time'];\n",
    "pd.to_datetime(data_time, errors='coerce');\n",
    "df['Date_Time'] = data_time"
   ]
  },
  {
   "cell_type": "markdown",
   "id": "01114508-a8bb-4373-b265-29d418186fd1",
   "metadata": {
    "tags": []
   },
   "source": [
    "## 3.2 Define columns to plot"
   ]
  },
  {
   "cell_type": "code",
   "execution_count": 14,
   "id": "fd437ed2-9530-40bb-98de-25d6b3820cd0",
   "metadata": {
    "tags": []
   },
   "outputs": [],
   "source": [
    "#MAIN COLUMNS\n",
    "Main_labels = main_columns(df)"
   ]
  },
  {
   "cell_type": "code",
   "execution_count": 15,
   "id": "9ab295cb-dbf2-4cc7-ba31-521a38b09d50",
   "metadata": {},
   "outputs": [],
   "source": [
    "#TEMPERATURE \n",
    "Temp_labels = temp_columns(df, project[1])"
   ]
  },
  {
   "cell_type": "code",
   "execution_count": 16,
   "id": "3886aed1-afcb-4d81-8c94-5d4f401a0ef5",
   "metadata": {
    "tags": []
   },
   "outputs": [],
   "source": [
    "#MEASUREMENTS FROM HV AC I/O\n",
    "HVAC_labels_V = hvac_v_columns(df, project[1])\n",
    "HVAC_labels_I = hvac_i_columns(df, project[1])\n",
    "HVAC_labels_P = hvac_p_columns(df, project[1])\n",
    "\n",
    "HVAC_labels = merge_dicts(HVAC_labels_V, HVAC_labels_I,HVAC_labels_P)"
   ]
  },
  {
   "cell_type": "code",
   "execution_count": 17,
   "id": "44380724-2a54-4239-877e-498363a932ab",
   "metadata": {},
   "outputs": [],
   "source": [
    "#MEASUREMENTS FROM HV DC I/O\n",
    "HVDC_labels_V = hvdc_v_columns(df, project[1])\n",
    "HVDC_labels_I = hvdc_i_columns(df, project[1])\n",
    "HVDC_labels_P = hvdc_p_columns(df, project[1])\n",
    "\n",
    "HVDC_labels = merge_dicts(HVDC_labels_V, HVDC_labels_I,HVDC_labels_P)"
   ]
  },
  {
   "cell_type": "code",
   "execution_count": 18,
   "id": "3522cd8a-2a9f-4b8f-a4f1-3e40c93a7ff1",
   "metadata": {},
   "outputs": [],
   "source": [
    "#MEASUREMENTS FROM LV DC I/O\n",
    "LVDC_labels_V = lvdc_v_columns(df, project[1])\n",
    "LVDC_labels_I = lvdc_i_columns(df, project[1])\n",
    "LVDC_labels_P = lvdc_p_columns(df, project[1])\n",
    "\n",
    "LVDC_labels = merge_dicts(LVDC_labels_V, LVDC_labels_I, LVDC_labels_P)"
   ]
  },
  {
   "cell_type": "code",
   "execution_count": 19,
   "id": "63a72cf8-303d-464f-8871-24b93ebd6016",
   "metadata": {},
   "outputs": [],
   "source": [
    "#STATUS\n",
    "Status_labels = status_columns(df, project[1])"
   ]
  },
  {
   "cell_type": "code",
   "execution_count": 20,
   "id": "d7ed088b-c343-4870-93de-9ddcef96e329",
   "metadata": {
    "tags": []
   },
   "outputs": [],
   "source": [
    "#DATA LOGGER\n",
    "DL1_labels = dl1_columns(df)\n",
    "DL2_labels = dl2_columns(df)"
   ]
  },
  {
   "cell_type": "markdown",
   "id": "22b9341e-7812-475b-9a93-b0148e4e2fdb",
   "metadata": {},
   "source": [
    "## 3.3 Combine labels"
   ]
  },
  {
   "cell_type": "code",
   "execution_count": 21,
   "id": "4223ebd3-84b8-4635-8584-fce831c67cf2",
   "metadata": {},
   "outputs": [],
   "source": [
    "labels = merge_dicts(Main_labels, Temp_labels, HVAC_labels, HVDC_labels, LVDC_labels, Status_labels, DL1_labels, DL2_labels)\n",
    "numeric_labels = merge_dicts(Temp_labels, HVAC_labels, HVDC_labels, LVDC_labels, Status_labels, DL1_labels, DL2_labels)\n",
    "columns = get_keys(labels)"
   ]
  },
  {
   "cell_type": "markdown",
   "id": "e8d114c7-2042-4f79-b006-8290a01f5c30",
   "metadata": {
    "tags": []
   },
   "source": [
    "## 3.4 DataFrame to plot\n",
    "Create an auxiliar dataframe from the original df with only the columns to plot"
   ]
  },
  {
   "cell_type": "code",
   "execution_count": 22,
   "id": "ee3e4f9a-b241-4d36-9c7d-7b571b01b325",
   "metadata": {},
   "outputs": [],
   "source": [
    "#Remove all rows if theres an Nan in any of the columns to plot\n",
    "df = df[df[get_keys(labels)].notna()]\n",
    "df = df[df[get_keys(labels)] != \"Not read\"]\n",
    "\n",
    "#With some files commas are not properly imported. The following conversion replaces commas by dots and convert all rows that should be numeric to float.\n",
    "df[get_keys(numeric_labels)] = df[get_keys(numeric_labels)].replace('\\.','', regex=True).replace(',','.', regex=True).astype(float)\n",
    "\n",
    "#We create a copy of the dataframe filtering the columns included in the labels dictionaries\n",
    "df_plot = df[columns].copy()\n",
    "\n",
    "#Change Columns names to its labels\n",
    "df_plot.rename(columns=labels,inplace=True)"
   ]
  },
  {
   "cell_type": "markdown",
   "id": "ec24378b-b5ff-4f9c-8fb7-638c9e7d8f09",
   "metadata": {},
   "source": [
    "## 3.5 Creates and exports a new simplified CSV"
   ]
  },
  {
   "cell_type": "code",
   "execution_count": 23,
   "id": "ca5392c6-03a3-491d-a389-9aa7e665d992",
   "metadata": {
    "tags": []
   },
   "outputs": [
    {
     "name": "stdout",
     "output_type": "stream",
     "text": [
      "Success File creation completed\n"
     ]
    }
   ],
   "source": [
    "#Generate a csv file combining all selected files and with the simplification rate applied\n",
    "export_extension = 'csv'\n",
    "try:\n",
    "    df.to_csv(dirName + '\\\\' + test + ' '  + 'Combined CSV' + '.' + export_extension,sep=';',decimal=',',index=False)\n",
    "    df_plot.to_csv(dirName + '\\\\' +  test + ' '  + 'Combined CSV Simplified' + '.' + export_extension,sep=';',decimal=',',index=False)\n",
    "    print(\"Success\",\"File creation completed\")\n",
    "except:\n",
    "    print(\"Error\",\"File creation failed\")"
   ]
  },
  {
   "cell_type": "markdown",
   "id": "a8f1e0e2-db39-49d1-a72e-34d3cd2e050f",
   "metadata": {},
   "source": [
    "# 4. Plot measurements"
   ]
  },
  {
   "cell_type": "markdown",
   "id": "f75a7239-9a62-4f5e-b9a3-f91fc00b815b",
   "metadata": {},
   "source": [
    "## 4.0 Set image size and format"
   ]
  },
  {
   "cell_type": "code",
   "execution_count": 24,
   "id": "18063017-37c9-4cf8-aa1e-5f6f65ec991d",
   "metadata": {},
   "outputs": [],
   "source": [
    "file_type = \".html\"\n",
    "os.chdir(dirPlot)\n",
    "resolution = [1920, 1080]\n",
    "resolution_4k = [4096, 2160] "
   ]
  },
  {
   "cell_type": "markdown",
   "id": "902234eb-9f14-4b7c-8e13-b817826e5b2b",
   "metadata": {
    "tags": []
   },
   "source": [
    "## 4.1 Temperature"
   ]
  },
  {
   "cell_type": "code",
   "execution_count": 25,
   "id": "f5fc862c-66de-49a3-91a6-c2d390c55184",
   "metadata": {},
   "outputs": [],
   "source": [
    "#SHOW TEMPERATURES\n",
    "fig_temp = plot_1_yaxis(\"Temperature Measurements\", df_plot, \"Test time\", get_labels(Temp_labels), \"Temperature[C]\", [-40,100])"
   ]
  },
  {
   "cell_type": "markdown",
   "id": "5fb8bff7-85f5-403a-ab7d-163561e2a487",
   "metadata": {},
   "source": [
    "## 4.2 HV AC Measurements"
   ]
  },
  {
   "cell_type": "code",
   "execution_count": 26,
   "id": "a0bc3e65-f90b-48b5-ab68-617ff1178d32",
   "metadata": {},
   "outputs": [],
   "source": [
    "#SHOW HV AC Measurements\n",
    "fig_ac = plot_2_yaxes(\"HV AC Measurements\", df_plot, \"Test time\", get_labels(HVAC_labels_V), get_labels(HVAC_labels_I), \"Voltage[V]\", \"Current[A]\", [0,700], [0,50])"
   ]
  },
  {
   "cell_type": "markdown",
   "id": "3017fe8a-42f7-4d8d-a2a6-ea4386d1a8b4",
   "metadata": {},
   "source": [
    "## 4.3 HV DC Measurements"
   ]
  },
  {
   "cell_type": "code",
   "execution_count": 27,
   "id": "b491d20c-f1a2-4e70-9626-bdf1f6c78037",
   "metadata": {},
   "outputs": [],
   "source": [
    "#SHOW HV DC Measurements\n",
    "fig_hv = plot_2_yaxes(\"HV DC Measurements\", df_plot, \"Test time\", get_labels(HVDC_labels_V), get_labels(HVDC_labels_I), \"Voltage[V]\", \"Current[A]\", [0,500], [0,50])"
   ]
  },
  {
   "cell_type": "markdown",
   "id": "e4398199-2219-4875-9772-684f1995ef68",
   "metadata": {},
   "source": [
    "## 4.4 LV DC Measurements"
   ]
  },
  {
   "cell_type": "code",
   "execution_count": 28,
   "id": "35d0dbeb-5070-4343-b1ba-6f23b8b883f9",
   "metadata": {},
   "outputs": [],
   "source": [
    "#SHOW LV DC Measurements\n",
    "fig_lv = plot_2_yaxes(\"LV DC Measurements\", df_plot, \"Test time\", get_labels(LVDC_labels_V), get_labels(LVDC_labels_I), \"Voltage[V]\", \"Current[A]\", [0,20], [0,250])"
   ]
  },
  {
   "cell_type": "markdown",
   "id": "75db3778-5f76-4238-a43a-b5538084a293",
   "metadata": {},
   "source": [
    "## 4.5 Status"
   ]
  },
  {
   "cell_type": "code",
   "execution_count": 29,
   "id": "68d24d0f-5d61-4b6a-b666-70fda601eb5f",
   "metadata": {},
   "outputs": [],
   "source": [
    "#SHOW Status Measurements\n",
    "max_y = np.max(df_plot[get_labels(Status_labels)].max())\n",
    "fig_status = plot_1_yaxis(\"Status\", df_plot, \"Test time\", get_labels(Status_labels), \"Status\", [0,max_y])"
   ]
  },
  {
   "cell_type": "markdown",
   "id": "a21efd5a-aa54-4ac1-8dfc-bfedf8ae1bf8",
   "metadata": {},
   "source": [
    "## 4.6 Temperature, HV AC and HV DC"
   ]
  },
  {
   "cell_type": "code",
   "execution_count": 30,
   "id": "cb92a79d-8260-4bbf-8ecf-ca8f076a0fd2",
   "metadata": {},
   "outputs": [],
   "source": [
    "#Plot Temperature HV AC and HV DC\n",
    "plot_figs(\"Temperature vs HVAC vs HVDC\", fig_temp, fig_ac, fig_hv)"
   ]
  },
  {
   "cell_type": "markdown",
   "id": "15fea00f-6480-4382-bc50-4c4f980e1b1a",
   "metadata": {},
   "source": [
    "## 4.7 HV AC, HV DC, LV DC"
   ]
  },
  {
   "cell_type": "code",
   "execution_count": 31,
   "id": "8e87136a-f554-416a-990d-509230c6cdbb",
   "metadata": {},
   "outputs": [],
   "source": [
    "#Plot Temperature HV AC and HV DC\n",
    "plot_figs(\"HVAC vs HVDC vs LVDC\", fig_ac, fig_hv, fig_lv)"
   ]
  },
  {
   "cell_type": "markdown",
   "id": "57f29289-a29a-4ec2-b719-5e73a21fa2f1",
   "metadata": {},
   "source": [
    "## 4.7 Temperature, HV AC, HV DC and LV DC"
   ]
  },
  {
   "cell_type": "code",
   "execution_count": 32,
   "id": "1234dbcc-d026-4cb9-9da7-9f3a08b245b8",
   "metadata": {},
   "outputs": [],
   "source": [
    "#Plot Temperature HV AC, HV DC and LV DC\n",
    "plot_figs(\"Temperature vs HVAC vs HVDC vs LVDC\", fig_temp, fig_ac, fig_hv, fig_lv)"
   ]
  },
  {
   "cell_type": "markdown",
   "id": "ccf65b12-0381-4cc3-9ea1-0cff13a07825",
   "metadata": {},
   "source": [
    "## 4.8 Temperature, HV AC, HV DC and Status"
   ]
  },
  {
   "cell_type": "code",
   "execution_count": 33,
   "id": "e809a601-0a22-4d4a-8b42-47352f53da52",
   "metadata": {},
   "outputs": [],
   "source": [
    "#Plot Temperature HV AC, HV DC and Status\n",
    "plot_figs(\"Temperature vs HVAC vs HVDC vs Status\", fig_temp, fig_ac, fig_hv, fig_status)"
   ]
  },
  {
   "cell_type": "markdown",
   "id": "b5cfdebf-95da-4024-9cfd-995648742333",
   "metadata": {},
   "source": [
    "# 5. Create Python script"
   ]
  },
  {
   "cell_type": "code",
   "execution_count": 34,
   "id": "549f611a-7c96-42a9-b7e5-7cdd34999e3f",
   "metadata": {},
   "outputs": [],
   "source": [
    "#os.chdir(r'C:\\Users\\m0081459\\Documents\\Jupyter')\n",
    "#!jupyter nbconvert --to script Import_And_Plot_csv_v2.ipynb"
   ]
  },
  {
   "cell_type": "markdown",
   "id": "0f247d27-bed5-4dac-8aea-45ea75905df2",
   "metadata": {
    "tags": []
   },
   "source": [
    "# __TO DO__\n",
    "Importar las señales desde el excel\n",
    "1. _Crear varias páginas_\n",
    "2. _En cada página poner una columna que sea \"Column\" y \"Alias\"_\n",
    "3. _Importar como dictionary las dos columnas_\n",
    "4. _Pintar una gráfica por cada sheet del excel_\n",
    "5. _Buscar las columnas en el df_\n",
    "6. _Incluir unas columnas comunes para cada plot y luego las especificadas_\n",
    "7. _Step1 o Step2 selector?_\n"
   ]
  }
 ],
 "metadata": {
  "kernelspec": {
   "display_name": "Python 3",
   "language": "python",
   "name": "python3"
  },
  "language_info": {
   "codemirror_mode": {
    "name": "ipython",
    "version": 3
   },
   "file_extension": ".py",
   "mimetype": "text/x-python",
   "name": "python",
   "nbconvert_exporter": "python",
   "pygments_lexer": "ipython3",
   "version": "3.7.2"
  }
 },
 "nbformat": 4,
 "nbformat_minor": 5
}
