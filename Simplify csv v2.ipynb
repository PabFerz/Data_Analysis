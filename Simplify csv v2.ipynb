{
 "cells": [
  {
   "cell_type": "markdown",
   "id": "211d582c-e0dd-440c-9d21-765d815cea2a",
   "metadata": {},
   "source": [
    "# 1. Notebook Preparation"
   ]
  },
  {
   "cell_type": "markdown",
   "id": "cf07bcde-0e9a-4afa-a565-b483b019be8b",
   "metadata": {},
   "source": [
    "## 1.1 Import libraries"
   ]
  },
  {
   "cell_type": "code",
   "execution_count": 1,
   "id": "62404953-f26b-4832-b526-260d00173843",
   "metadata": {},
   "outputs": [],
   "source": [
    "#General\n",
    "import os\n",
    "import glob\n",
    "import numpy as np\n",
    "import pandas as pd"
   ]
  },
  {
   "cell_type": "markdown",
   "id": "254bb25d-8156-4a74-9c6b-f10792af0b4b",
   "metadata": {},
   "source": [
    "## 1.2 Functions"
   ]
  },
  {
   "cell_type": "code",
   "execution_count": 2,
   "id": "1a8205d7-c10b-40e9-b6fb-21a868376946",
   "metadata": {},
   "outputs": [
    {
     "data": {
      "text/html": [
       "        <script type=\"text/javascript\">\n",
       "        window.PlotlyConfig = {MathJaxConfig: 'local'};\n",
       "        if (window.MathJax) {MathJax.Hub.Config({SVG: {font: \"STIX-Web\"}});}\n",
       "        if (typeof require !== 'undefined') {\n",
       "        require.undef(\"plotly\");\n",
       "        requirejs.config({\n",
       "            paths: {\n",
       "                'plotly': ['https://cdn.plot.ly/plotly-2.8.3.min']\n",
       "            }\n",
       "        });\n",
       "        require(['plotly'], function(Plotly) {\n",
       "            window._Plotly = Plotly;\n",
       "        });\n",
       "        }\n",
       "        </script>\n",
       "        "
      ]
     },
     "metadata": {},
     "output_type": "display_data"
    },
    {
     "data": {
      "text/html": [
       "        <script type=\"text/javascript\">\n",
       "        window.PlotlyConfig = {MathJaxConfig: 'local'};\n",
       "        if (window.MathJax) {MathJax.Hub.Config({SVG: {font: \"STIX-Web\"}});}\n",
       "        if (typeof require !== 'undefined') {\n",
       "        require.undef(\"plotly\");\n",
       "        requirejs.config({\n",
       "            paths: {\n",
       "                'plotly': ['https://cdn.plot.ly/plotly-2.8.3.min']\n",
       "            }\n",
       "        });\n",
       "        require(['plotly'], function(Plotly) {\n",
       "            window._Plotly = Plotly;\n",
       "        });\n",
       "        }\n",
       "        </script>\n",
       "        "
      ]
     },
     "metadata": {},
     "output_type": "display_data"
    }
   ],
   "source": [
    "os.chdir(r'C:\\Users\\Pablo\\Documents\\GitHub\\Data_Analysis') #Copy directory where other ipynb are located\n",
    "%run -i Functions.ipynb\n",
    "%run -i Columns.ipynb"
   ]
  },
  {
   "cell_type": "code",
   "execution_count": 3,
   "id": "7e1e9747-d015-47d0-8bac-6fbd2139d4f2",
   "metadata": {},
   "outputs": [],
   "source": [
    "def insert_column(data, location, col_name, value):\n",
    "    if col_name not in data.columns:\n",
    "        data.insert(location, col_name, value)"
   ]
  },
  {
   "cell_type": "markdown",
   "id": "60dbef75-24a2-4a2e-a892-cbc0a25f19fd",
   "metadata": {},
   "source": [
    "# 2. Load files and set folder location"
   ]
  },
  {
   "cell_type": "markdown",
   "id": "38fcc2f7-1036-4c84-b59d-679ddfd18b26",
   "metadata": {
    "tags": []
   },
   "source": [
    "## 2.1 Request and retrieve logs"
   ]
  },
  {
   "cell_type": "code",
   "execution_count": 4,
   "id": "emotional-pleasure",
   "metadata": {},
   "outputs": [
    {
     "name": "stdout",
     "output_type": "stream",
     "text": [
      "Files Folder\n"
     ]
    },
    {
     "name": "stdin",
     "output_type": "stream",
     "text": [
      ">>> C:\\Users\\Pablo\\Documents\\Jupyter\\Jupyter\\Jupyter\\Results\\DV\\CL11\\High_temp\\SN169530\\Tests started on  01_19_2022\n"
     ]
    }
   ],
   "source": [
    "#Folder directory\n",
    "print(\"Files Folder\")\n",
    "InDirectory = input(prompt=\">>>\")\n",
    "os.chdir(InDirectory)\n",
    "\n",
    "#Explore directory and select all files with the given format\n",
    "import_extension = 'csv'\n",
    "files = [i for i in sorted(glob.glob('*.{}'.format(import_extension)), key=os.path.getmtime)] #Change to *.**{} to search in subfolders"
   ]
  },
  {
   "cell_type": "markdown",
   "id": "5da79153-e98d-4aa5-93bd-5a57d54cb964",
   "metadata": {},
   "source": [
    "### 2.1.1 Check files uploaded"
   ]
  },
  {
   "cell_type": "code",
   "execution_count": 5,
   "id": "64794aa7-7835-4351-8d97-24e22a7f09f9",
   "metadata": {},
   "outputs": [
    {
     "name": "stdout",
     "output_type": "stream",
     "text": [
      "Files selected:\n",
      "1 - 5.29 MB - CL11_High_temp SN169530Ed 3.6 ULP 95_38_19 Date 01_19_2022 -  01_01_51 PM.csv\n",
      "2 - 5.26 MB - CL11_High_temp SN169530Ed 3.6 ULP 95_38_19 Date 01_19_2022 -  02_02_11 PM.csv\n",
      "3 - 1.5 MB - CL11_High_temp SN169530Ed 3.6 ULP 95_38_19 Date 01_19_2022 -  03_02_04 PM.csv\n"
     ]
    }
   ],
   "source": [
    "try:\n",
    "    print('Files selected:')\n",
    "    for count,file in enumerate(files):\n",
    "        print(count+1,'-',get_file_size(file),'MB -',file)\n",
    "except:\n",
    "    print('Error','The list of files to import is empty. Click on the Upload File button and select a log file')"
   ]
  },
  {
   "cell_type": "markdown",
   "id": "b0bd8575-b084-46b6-bf91-72e3cc2e1038",
   "metadata": {},
   "source": [
    "## 2.2 Choose the Ouput Directory"
   ]
  },
  {
   "cell_type": "code",
   "execution_count": 5,
   "id": "90ce3a03-45ea-422a-b479-f9e87c6800e9",
   "metadata": {},
   "outputs": [
    {
     "name": "stdin",
     "output_type": "stream",
     "text": [
      "Output Folder:  C:\\Users\\m0081459\\Documents\\Jupyter\\Results\\Pruebas Motilla\\Log Christian\\CSV y Script - Jupyter\n"
     ]
    }
   ],
   "source": [
    "print(\"Output Folder\")\n",
    "OutDirectory = input(prompt=\">>>\")"
   ]
  },
  {
   "cell_type": "markdown",
   "id": "d9e5f6d0-145a-45d5-b6ec-99c8cad8cd3b",
   "metadata": {},
   "source": [
    "### 2.2.1 Set and check Output Folder"
   ]
  },
  {
   "cell_type": "code",
   "execution_count": 6,
   "id": "5785ce4d-ac29-4b31-8080-4579ed716a69",
   "metadata": {},
   "outputs": [
    {
     "name": "stdout",
     "output_type": "stream",
     "text": [
      "Output Directory:C:\\Users\\m0081459\\Documents\\Jupyter\\Results\\Pruebas Motilla\\Log Christian\\CSV y Script - Jupyter\n"
     ]
    }
   ],
   "source": [
    "try:\n",
    "    if (OutDirectory == None):\n",
    "        print('Warning','Directory not found. By default, files will be placed in Documents/_Validation/Reports')\n",
    "        OutDirectory = os.path.expanduser('~/Documents')\n",
    "    print('Output Directory:' + OutDirectory)\n",
    "except:\n",
    "    print('Error','Select a valid directory to store output files')"
   ]
  },
  {
   "cell_type": "code",
   "execution_count": 7,
   "id": "6703cd9e-db43-4df0-a9bd-82dd41c9bc91",
   "metadata": {},
   "outputs": [],
   "source": [
    "# Sort files by date\n",
    "import_extension = 'csv'\n",
    "files = [i for i in sorted(glob.glob('*.{}'.format(import_extension)), key=os.path.getmtime)]"
   ]
  },
  {
   "cell_type": "markdown",
   "id": "3ca5471c-e04c-434d-92f9-fd73d87fa330",
   "metadata": {
    "tags": []
   },
   "source": [
    "## 2.3 Define Test Name"
   ]
  },
  {
   "cell_type": "code",
   "execution_count": 8,
   "id": "1ae59896-23b5-4d34-8617-65dea24a533b",
   "metadata": {},
   "outputs": [
    {
     "name": "stdin",
     "output_type": "stream",
     "text": [
      "Introduce Test Name:  CL10\n"
     ]
    }
   ],
   "source": [
    "print(\"Introduce Test Name\")\n",
    "test = input(prompt=\">>>\")"
   ]
  },
  {
   "cell_type": "markdown",
   "id": "e8abec0a-4b41-4a50-9764-70763c90a759",
   "metadata": {},
   "source": [
    "## 2.4 Create Output Subfolders"
   ]
  },
  {
   "cell_type": "code",
   "execution_count": 14,
   "id": "another-quest",
   "metadata": {},
   "outputs": [
    {
     "name": "stdout",
     "output_type": "stream",
     "text": [
      "Directory  C:\\Users\\m0081459\\Documents\\Jupyter\\Results\\DV\\CL11\\High_temp\\SN169530\\Tests started on  01_19_2022\\Combined csvs  already exists\n",
      "Directory  C:\\Users\\m0081459\\Documents\\Jupyter\\Results\\DV\\CL11\\High_temp\\SN169530\\Tests started on  01_19_2022\\Plots  already exists\n"
     ]
    }
   ],
   "source": [
    "dirName = OutDirectory + '\\Combined csvs'\n",
    "dirPlot = OutDirectory + '\\Plots'\n",
    "simplification_rate = 5;\n",
    "\n",
    "try:\n",
    "    os.mkdir(dirName)\n",
    "    print('Directory ' , dirName, ' Created ') \n",
    "except FileExistsError:\n",
    "    print('Directory ' , dirName, ' already exists')\n",
    "    \n",
    "try:\n",
    "    os.mkdir(dirPlot)\n",
    "    print('Directory ' , dirPlot, ' Created ') \n",
    "except FileExistsError:\n",
    "    print('Directory ' , dirPlot, ' already exists')"
   ]
  },
  {
   "cell_type": "markdown",
   "id": "73443d4d-dc9d-4444-8a26-732b14399c5e",
   "metadata": {
    "tags": []
   },
   "source": [
    "## 2.5 Define Project"
   ]
  },
  {
   "cell_type": "code",
   "execution_count": 9,
   "id": "2a8643bb-ddfe-47b9-93cf-d97a0d822cd9",
   "metadata": {
    "tags": []
   },
   "outputs": [
    {
     "name": "stdout",
     "output_type": "stream",
     "text": [
      "Introduce Project\n",
      "1 :  STEP1\n",
      "2 :  BEV\n",
      "3 :  PHEV\n"
     ]
    },
    {
     "name": "stdin",
     "output_type": "stream",
     "text": [
      ">>> 1\n"
     ]
    },
    {
     "name": "stdout",
     "output_type": "stream",
     "text": [
      "STEP1  selected.\n"
     ]
    }
   ],
   "source": [
    "project = request_project(project_question)"
   ]
  },
  {
   "cell_type": "markdown",
   "id": "2177d5de-7300-4426-90cb-e392bd9fac79",
   "metadata": {
    "tags": []
   },
   "source": [
    "## 2.6 Load and combine csv Files"
   ]
  },
  {
   "cell_type": "code",
   "execution_count": 11,
   "id": "ae37700f-ec80-4b52-ad45-627e01cbe22a",
   "metadata": {
    "tags": []
   },
   "outputs": [
    {
     "name": "stdout",
     "output_type": "stream",
     "text": [
      "Introduce Simplification rate: \n"
     ]
    },
    {
     "name": "stdin",
     "output_type": "stream",
     "text": [
      ">>> 20\n"
     ]
    }
   ],
   "source": [
    "#Request simplification rate\n",
    "prompt = \">>>\"\n",
    "print(\"Introduce Simplification rate: \")\n",
    "try:\n",
    "    simplification_rate = int(input(prompt=prompt))\n",
    "except ValueError:\n",
    "    print(\"Invalid number. Simplification rate set to 10.\")\n",
    "    simplification_rate = 10"
   ]
  },
  {
   "cell_type": "code",
   "execution_count": 18,
   "id": "e86be6a8-39f4-462e-a106-7cdc66a5792e",
   "metadata": {},
   "outputs": [],
   "source": [
    "df = pd.concat([pd.read_csv(f, sep=';', low_memory=False, thousands='.', decimal=',',error_bad_lines=False, lineterminator='\\n') for f in files])\n",
    "\n",
    "#Clean up the file\n",
    "df = df[pd.notnull(df['Time'])] #Remove rows where the column Time contains NaN values\n",
    "\n",
    "#If the sampling rate is to high use the simplifacation rate variable to reduce the number of data points to plot\n",
    "df = df.iloc[np.arange(0,df.shape[0], simplification_rate)] #Filters only 1 out of X rows to speed up the ploting process\n",
    "df['Measurement'] = np.arange(0,df.shape[0])\n",
    "df = df.reset_index(drop=True)"
   ]
  },
  {
   "cell_type": "markdown",
   "id": "51ddfd2c-c321-4846-9ddc-4f38ed9ee2c2",
   "metadata": {},
   "source": [
    "# 3 Modify DataFrame"
   ]
  },
  {
   "cell_type": "markdown",
   "id": "a3c33c94-8607-4081-99c7-d2c11107898b",
   "metadata": {
    "tags": []
   },
   "source": [
    "## 3.1 Prepare dataframe"
   ]
  },
  {
   "cell_type": "code",
   "execution_count": 27,
   "id": "4ffc0265-9c12-4562-aff2-0fb45798e6ee",
   "metadata": {},
   "outputs": [],
   "source": [
    "#Create a column with datatime format\n",
    "if 'Date_Time' not in df.columns:\n",
    "    data_time = df['Date'] + \" \" + df['Time'];\n",
    "    pd.to_datetime(data_time, errors='coerce');\n",
    "    df.insert(0, 'Date_Time',data_time)"
   ]
  },
  {
   "cell_type": "markdown",
   "id": "32b6fcf4-8ab5-4d52-94f1-4c879db9c528",
   "metadata": {
    "tags": []
   },
   "source": [
    "## 3.2 Define columns to plot"
   ]
  },
  {
   "cell_type": "code",
   "execution_count": 14,
   "id": "7a034ef8-e8c9-4588-a1ea-28f60ff1415e",
   "metadata": {
    "tags": []
   },
   "outputs": [],
   "source": [
    "#MAIN COLUMNS\n",
    "Main_labels = main_columns(df)"
   ]
  },
  {
   "cell_type": "code",
   "execution_count": 15,
   "id": "95032796-b3a7-44b4-a98f-71d5c95698f8",
   "metadata": {},
   "outputs": [],
   "source": [
    "#TEMPERATURE \n",
    "Temp_labels = temp_columns(df, project[1])"
   ]
  },
  {
   "cell_type": "code",
   "execution_count": 16,
   "id": "a0826828-9db1-498a-81a3-feef3bb4010e",
   "metadata": {
    "tags": []
   },
   "outputs": [],
   "source": [
    "#MEASUREMENTS FROM HV AC I/O\n",
    "HVAC_labels_V = hvac_v_columns(df, project[1])\n",
    "HVAC_labels_I = hvac_i_columns(df, project[1])\n",
    "HVAC_labels_P = hvac_p_columns(df, project[1])\n",
    "\n",
    "HVAC_labels = merge_dicts(HVAC_labels_V, HVAC_labels_I,HVAC_labels_P)"
   ]
  },
  {
   "cell_type": "code",
   "execution_count": 17,
   "id": "22f035d6-1ed6-4950-a703-c8d3492e1248",
   "metadata": {},
   "outputs": [],
   "source": [
    "#MEASUREMENTS FROM HV DC I/O\n",
    "HVDC_labels_V = hvdc_v_columns(df, project[1])\n",
    "HVDC_labels_I = hvdc_i_columns(df, project[1])\n",
    "HVDC_labels_P = hvdc_p_columns(df, project[1])\n",
    "\n",
    "HVDC_labels = merge_dicts(HVDC_labels_V, HVDC_labels_I,HVDC_labels_P)"
   ]
  },
  {
   "cell_type": "code",
   "execution_count": 18,
   "id": "ad8a77c3-6320-4a4f-8255-85c9c9e15587",
   "metadata": {},
   "outputs": [],
   "source": [
    "#MEASUREMENTS FROM LV DC I/O\n",
    "LVDC_labels_V = lvdc_v_columns(df, project[1])\n",
    "LVDC_labels_I = lvdc_i_columns(df, project[1])\n",
    "LVDC_labels_P = lvdc_p_columns(df, project[1])\n",
    "\n",
    "LVDC_labels = merge_dicts(LVDC_labels_V, LVDC_labels_I, LVDC_labels_P)"
   ]
  },
  {
   "cell_type": "code",
   "execution_count": 19,
   "id": "4d550f67-fd2a-4a83-be78-6489f718dab7",
   "metadata": {},
   "outputs": [],
   "source": [
    "#STATUS\n",
    "Status_labels = status_columns(df, project[1])"
   ]
  },
  {
   "cell_type": "code",
   "execution_count": 20,
   "id": "e52dc5cb-68cb-4b82-8cb8-78e99cb1a5b5",
   "metadata": {
    "tags": []
   },
   "outputs": [],
   "source": [
    "#DATA LOGGER\n",
    "DL1_labels = dl1_columns(df)\n",
    "DL2_labels = dl2_columns(df)"
   ]
  },
  {
   "cell_type": "markdown",
   "id": "2df09388-f527-4e08-ae44-d74d0bd64099",
   "metadata": {},
   "source": [
    "## 3.3 Combine labels"
   ]
  },
  {
   "cell_type": "code",
   "execution_count": 26,
   "id": "c503ae3b-7d85-4494-9adf-a2c7e9ac6c30",
   "metadata": {},
   "outputs": [],
   "source": [
    "labels = merge_dicts(Main_labels, Temp_labels, HVAC_labels, HVDC_labels, LVDC_labels, Status_labels, DL1_labels, DL2_labels)\n",
    "numeric_labels = merge_dicts(Temp_labels, HVAC_labels, HVDC_labels, LVDC_labels, Status_labels, DL1_labels, DL2_labels)\n",
    "columns = get_keys(labels)"
   ]
  },
  {
   "cell_type": "markdown",
   "id": "3ca98649-88a5-4a41-a1a8-45d335e9988a",
   "metadata": {
    "tags": []
   },
   "source": [
    "## 3.4 DataFrame to plot\n",
    "Create an auxiliar dataframe from the original df with only the columns to plot"
   ]
  },
  {
   "cell_type": "code",
   "execution_count": 61,
   "id": "84e21489-b9e7-422f-ae63-92518c594bc6",
   "metadata": {},
   "outputs": [],
   "source": [
    "#We create a copy of the dataframe filtering the columns included in the labels dictionaries\n",
    "df_simplified = df[columns].copy()\n",
    "\n",
    "#Change Columns names to its labels\n",
    "df_simplified.rename(columns=labels,inplace=True)"
   ]
  },
  {
   "cell_type": "markdown",
   "id": "7e408b34-47e6-4a9c-9327-45bf7a36c7ad",
   "metadata": {},
   "source": [
    "## 3.5 Create DataFrame for SQL server upload"
   ]
  },
  {
   "cell_type": "markdown",
   "id": "bb26a01b-d001-4571-b7ff-532cfe660c64",
   "metadata": {
    "tags": []
   },
   "source": [
    "## 3.5 Export to a new csv"
   ]
  },
  {
   "cell_type": "code",
   "execution_count": 161,
   "id": "25945d19-054a-4ee5-9186-e80135550747",
   "metadata": {
    "tags": []
   },
   "outputs": [
    {
     "name": "stdout",
     "output_type": "stream",
     "text": [
      "Success File creation completed\n"
     ]
    }
   ],
   "source": [
    "#Generate a csv file combining all selected files and with the simplification rate applied\n",
    "export_extension = 'csv'\n",
    "try:\n",
    "    df.to_csv(dirName + '\\\\' + test + ' '  + 'Combined CSV' + '.' + export_extension,sep=';',decimal=',',index=False)\n",
    "    df_simplified.to_csv(dirName + '\\\\' +  test + ' '  + 'Combined CSV Simplified' + '.' + export_extension,sep=';',decimal=',',index=False)\n",
    "    print('Success','File creation completed')\n",
    "except:\n",
    "    print('Error','File creation failed')"
   ]
  },
  {
   "cell_type": "code",
   "execution_count": 162,
   "id": "04725732-4547-45c8-9214-11be210abb13",
   "metadata": {},
   "outputs": [
    {
     "data": {
      "text/plain": [
       "<subprocess.Popen at 0x14edb870>"
      ]
     },
     "execution_count": 162,
     "metadata": {},
     "output_type": "execute_result"
    }
   ],
   "source": [
    "import subprocess\n",
    "subprocess.Popen(r'explorer /select,{}'.format(dirName))"
   ]
  }
 ],
 "metadata": {
  "kernelspec": {
   "display_name": "Python 3 (ipykernel)",
   "language": "python",
   "name": "python3"
  },
  "language_info": {
   "codemirror_mode": {
    "name": "ipython",
    "version": 3
   },
   "file_extension": ".py",
   "mimetype": "text/x-python",
   "name": "python",
   "nbconvert_exporter": "python",
   "pygments_lexer": "ipython3",
   "version": "3.10.2"
  }
 },
 "nbformat": 4,
 "nbformat_minor": 5
}
