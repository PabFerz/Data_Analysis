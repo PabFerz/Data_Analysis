{
 "cells": [
  {
   "cell_type": "markdown",
   "id": "5fb5b9ea-01c3-4ee2-b1cd-ec1c6f0c41df",
   "metadata": {},
   "source": [
    "# 1. Notebook Preparation"
   ]
  },
  {
   "cell_type": "markdown",
   "id": "95588479-b5b7-40f9-b64e-2f3b6f24a6af",
   "metadata": {},
   "source": [
    "## 1.1 Import libraries"
   ]
  },
  {
   "cell_type": "code",
   "execution_count": 2,
   "id": "16392cb5-91aa-49fe-8682-a1c360e59a90",
   "metadata": {},
   "outputs": [],
   "source": [
    "import pandas as pd"
   ]
  },
  {
   "cell_type": "markdown",
   "id": "337267d9-1cb7-42df-b48a-fc1a9ba8dddb",
   "metadata": {
    "tags": []
   },
   "source": [
    "## 1.2 Functions"
   ]
  },
  {
   "cell_type": "code",
   "execution_count": 3,
   "id": "721a9446-9ce1-4522-9e87-0f173c71c5ba",
   "metadata": {},
   "outputs": [
    {
     "data": {
      "text/html": [
       "        <script type=\"text/javascript\">\n",
       "        window.PlotlyConfig = {MathJaxConfig: 'local'};\n",
       "        if (window.MathJax) {MathJax.Hub.Config({SVG: {font: \"STIX-Web\"}});}\n",
       "        if (typeof require !== 'undefined') {\n",
       "        require.undef(\"plotly\");\n",
       "        requirejs.config({\n",
       "            paths: {\n",
       "                'plotly': ['https://cdn.plot.ly/plotly-latest.min']\n",
       "            }\n",
       "        });\n",
       "        require(['plotly'], function(Plotly) {\n",
       "            window._Plotly = Plotly;\n",
       "        });\n",
       "        }\n",
       "        </script>\n",
       "        "
      ]
     },
     "metadata": {},
     "output_type": "display_data"
    },
    {
     "data": {
      "text/html": [
       "        <script type=\"text/javascript\">\n",
       "        window.PlotlyConfig = {MathJaxConfig: 'local'};\n",
       "        if (window.MathJax) {MathJax.Hub.Config({SVG: {font: \"STIX-Web\"}});}\n",
       "        if (typeof require !== 'undefined') {\n",
       "        require.undef(\"plotly\");\n",
       "        requirejs.config({\n",
       "            paths: {\n",
       "                'plotly': ['https://cdn.plot.ly/plotly-latest.min']\n",
       "            }\n",
       "        });\n",
       "        require(['plotly'], function(Plotly) {\n",
       "            window._Plotly = Plotly;\n",
       "        });\n",
       "        }\n",
       "        </script>\n",
       "        "
      ]
     },
     "metadata": {},
     "output_type": "display_data"
    }
   ],
   "source": [
    "%run Functions.ipynb\n",
    "%run Columns.ipynb"
   ]
  },
  {
   "cell_type": "markdown",
   "id": "c18ddf65-43e6-4d86-bc39-452c69286fe3",
   "metadata": {
    "tags": []
   },
   "source": [
    "## 2.1 Request and retrieve logs"
   ]
  },
  {
   "cell_type": "code",
   "execution_count": 58,
   "id": "95380232-d176-455e-9c34-687b02d69da1",
   "metadata": {},
   "outputs": [
    {
     "name": "stdout",
     "output_type": "stream",
     "text": [
      "Files Folder\n"
     ]
    },
    {
     "name": "stdin",
     "output_type": "stream",
     "text": [
      ">>> C:\\Users\\m0081459\\Documents\\Jupyter\\Results\\DV\\CL11\\High_temp\\SN169530\\Tests started on  01_19_2022\n"
     ]
    }
   ],
   "source": [
    "#Folder directory\n",
    "print(\"Files Folder\")\n",
    "InDirectory = input(prompt=\">>>\")\n",
    "os.chdir(InDirectory)\n",
    "\n",
    "#Explore directory and select all files with the given format\n",
    "import_extension = 'csv'\n",
    "files = [i for i in sorted(glob.glob('*.{}'.format(import_extension)), key=os.path.getmtime)] #Change to *.**{} to search in subfolders"
   ]
  },
  {
   "cell_type": "code",
   "execution_count": 59,
   "id": "6ad9d988-6675-4ed5-9b3f-b9307027a172",
   "metadata": {},
   "outputs": [
    {
     "data": {
      "text/plain": [
       "'C:\\\\Users\\\\m0081459\\\\Documents\\\\Jupyter\\\\Results\\\\DV\\\\CL11\\\\High_temp\\\\SN169530\\\\Tests started on  01_19_2022'"
      ]
     },
     "execution_count": 59,
     "metadata": {},
     "output_type": "execute_result"
    }
   ],
   "source": [
    "InDirectory"
   ]
  },
  {
   "cell_type": "markdown",
   "id": "69dc4d17-3ffe-4128-910a-76d5bf3b02b3",
   "metadata": {},
   "source": [
    "### 2.1.1 Check files uploaded"
   ]
  },
  {
   "cell_type": "code",
   "execution_count": 60,
   "id": "1822b634-d059-417d-ba45-f061697174cb",
   "metadata": {},
   "outputs": [
    {
     "name": "stdout",
     "output_type": "stream",
     "text": [
      "Files selected:\n",
      "1 - 5.29 MB - CL11_High_temp SN169530Ed 3.6 ULP 95_38_19 Date 01_19_2022 -  01_01_51 PM.csv\n",
      "2 - 5.26 MB - CL11_High_temp SN169530Ed 3.6 ULP 95_38_19 Date 01_19_2022 -  02_02_11 PM.csv\n",
      "3 - 1.5 MB - CL11_High_temp SN169530Ed 3.6 ULP 95_38_19 Date 01_19_2022 -  03_02_04 PM.csv\n"
     ]
    }
   ],
   "source": [
    "try:\n",
    "    print('Files selected:')\n",
    "    for count,file in enumerate(files):\n",
    "        print(count+1,'-',get_file_size(file),'MB -',file)\n",
    "except:\n",
    "    print('Error','The list of files to import is empty. Click on the Upload File button and select a log file')"
   ]
  },
  {
   "cell_type": "markdown",
   "id": "1f873ff0-e082-4381-9223-cfd9b760d41d",
   "metadata": {},
   "source": [
    "## 2.2 Choose the Ouput Directory"
   ]
  },
  {
   "cell_type": "code",
   "execution_count": 61,
   "id": "f36f2f07-f22b-419b-b2dd-afd45facfa22",
   "metadata": {},
   "outputs": [
    {
     "name": "stdout",
     "output_type": "stream",
     "text": [
      "Output Folder\n"
     ]
    },
    {
     "name": "stdin",
     "output_type": "stream",
     "text": [
      ">>> C:\\Users\\m0081459\\Documents\\Jupyter\\Results\\DV\\CL11\\High_temp\\SN169530\\Tests started on  01_19_2022\n"
     ]
    }
   ],
   "source": [
    "print(\"Output Folder\")\n",
    "OutDirectory = input(prompt=\">>>\")"
   ]
  },
  {
   "cell_type": "markdown",
   "id": "bd362b90-9dd3-4500-859d-f3a962f38db7",
   "metadata": {},
   "source": [
    "### 2.2.1 Set and check Output Folder"
   ]
  },
  {
   "cell_type": "code",
   "execution_count": 62,
   "id": "409c499e-6739-4aa5-9235-a840463d55a0",
   "metadata": {},
   "outputs": [
    {
     "name": "stdout",
     "output_type": "stream",
     "text": [
      "Output Directory:C:\\Users\\m0081459\\Documents\\Jupyter\\Results\\DV\\CL11\\High_temp\\SN169530\\Tests started on  01_19_2022\n"
     ]
    }
   ],
   "source": [
    "try:\n",
    "    if (OutDirectory == None):\n",
    "        print('Warning','Directory not found. By default, files will be placed in Documents/_Validation/Reports')\n",
    "        OutDirectory = os.path.expanduser('~/Documents')\n",
    "    print('Output Directory:' + OutDirectory)\n",
    "except:\n",
    "    print('Error','Select a valid directory to store output files')"
   ]
  },
  {
   "cell_type": "markdown",
   "id": "08faeb68-7b1f-421e-b566-a6e254f4116f",
   "metadata": {
    "tags": []
   },
   "source": [
    "## 2.3 Define Test Name"
   ]
  },
  {
   "cell_type": "code",
   "execution_count": 63,
   "id": "0f19b13f-7251-4a3a-8bf1-429aa46685f0",
   "metadata": {},
   "outputs": [
    {
     "name": "stdout",
     "output_type": "stream",
     "text": [
      "Introduce Test Name\n"
     ]
    },
    {
     "name": "stdin",
     "output_type": "stream",
     "text": [
      ">>> CL10\n"
     ]
    }
   ],
   "source": [
    "print(\"Introduce Test Name\")\n",
    "test = input(prompt=\">>>\")"
   ]
  },
  {
   "cell_type": "markdown",
   "id": "816f23dd-6aab-47d6-9117-e254e456e8bf",
   "metadata": {
    "tags": []
   },
   "source": [
    "## 2.3 Define Project"
   ]
  },
  {
   "cell_type": "code",
   "execution_count": 64,
   "id": "afa2b4ee-bfed-402b-9282-e56093b53137",
   "metadata": {
    "tags": []
   },
   "outputs": [
    {
     "name": "stdout",
     "output_type": "stream",
     "text": [
      "Introduce Project\n",
      "1 :  STEP1\n",
      "2 :  BEV\n",
      "3 :  PHEV\n"
     ]
    },
    {
     "name": "stdin",
     "output_type": "stream",
     "text": [
      ">>> 2\n"
     ]
    },
    {
     "name": "stdout",
     "output_type": "stream",
     "text": [
      "BEV  selected.\n"
     ]
    }
   ],
   "source": [
    "project = request_project(project_question)"
   ]
  },
  {
   "cell_type": "markdown",
   "id": "dc42ac46-4a65-46d2-95e3-fa736872c535",
   "metadata": {},
   "source": [
    "## 2.4 Create Output Subfolders"
   ]
  },
  {
   "cell_type": "code",
   "execution_count": 65,
   "id": "4ccdd0e3-f0e1-4d8a-988c-5238d3d7ec73",
   "metadata": {
    "tags": []
   },
   "outputs": [
    {
     "name": "stdout",
     "output_type": "stream",
     "text": [
      "Directory  C:\\Users\\m0081459\\Documents\\Jupyter\\Results\\DV\\CL11\\High_temp\\SN169530\\Tests started on  01_19_2022\\Combined csvs  already exists\n",
      "Directory  C:\\Users\\m0081459\\Documents\\Jupyter\\Results\\DV\\CL11\\High_temp\\SN169530\\Tests started on  01_19_2022\\Plots  already exists\n"
     ]
    }
   ],
   "source": [
    "dirName = OutDirectory + '\\Combined csvs'\n",
    "dirPlot = OutDirectory + '\\Plots'\n",
    "\n",
    "try:\n",
    "    os.mkdir(dirName)\n",
    "    print('Directory ' , dirName, ' Created ') \n",
    "except FileExistsError:\n",
    "    print('Directory ' , dirName, ' already exists')\n",
    "    \n",
    "try:\n",
    "    os.mkdir(dirPlot)\n",
    "    print('Directory ' , dirPlot, ' Created ') \n",
    "except FileExistsError:\n",
    "    print('Directory ' , dirPlot, ' already exists')"
   ]
  },
  {
   "cell_type": "markdown",
   "id": "01e976de-e5a4-4236-ae27-8845a3330916",
   "metadata": {
    "tags": []
   },
   "source": [
    "## 2.5 Load and combine csv Files"
   ]
  },
  {
   "cell_type": "markdown",
   "id": "b448ddf7-c739-424a-aa92-384e200d6ca1",
   "metadata": {},
   "source": [
    "### 2.5.1 Requests Simplification rate"
   ]
  },
  {
   "cell_type": "code",
   "execution_count": 66,
   "id": "eb9aa7d3-e3b4-4de3-a9ac-c55cf0df048d",
   "metadata": {
    "tags": []
   },
   "outputs": [
    {
     "name": "stdout",
     "output_type": "stream",
     "text": [
      "Introduce Simplification rate: \n"
     ]
    },
    {
     "name": "stdin",
     "output_type": "stream",
     "text": [
      ">>> 10\n"
     ]
    }
   ],
   "source": [
    "#Request simplification rate\n",
    "prompt = \">>>\"\n",
    "print(\"Introduce Simplification rate: \")\n",
    "try:\n",
    "    simplification_rate = int(input(prompt=prompt))\n",
    "except ValueError:\n",
    "    print(\"Invalid number. Simplification rate set to 10.\")\n",
    "    simplification_rate = 10"
   ]
  },
  {
   "cell_type": "markdown",
   "id": "1e26f533-3856-46e3-9aef-72786ac39e31",
   "metadata": {},
   "source": [
    "### 2.5.2 Import CSV"
   ]
  },
  {
   "cell_type": "code",
   "execution_count": 67,
   "id": "aaa48a33-60f1-4653-82f7-693587a270d5",
   "metadata": {},
   "outputs": [],
   "source": [
    "df = pd.concat([pd.read_csv(f, sep=';', low_memory=False, thousands='.', decimal=',',error_bad_lines=False, lineterminator='\\n') for f in files])\n",
    "\n",
    "#Clean up the file\n",
    "df = df[pd.notnull(df['Time'])] #Remove rows where the column Time contains NaN values\n",
    "\n",
    "#If the sampling rate is to high use the simplifacation rate variable to reduce the number of data points to plot\n",
    "df = df.iloc[np.arange(0,df.shape[0], simplification_rate)] #Filters only 1 out of X rows to speed up the ploting process\n",
    "df['Measurement'] = np.arange(0,df.shape[0])\n",
    "df = df.reset_index(drop=True)"
   ]
  },
  {
   "cell_type": "code",
   "execution_count": 71,
   "id": "d63d5037-f8a3-4356-9c3f-a90ac2e1c5ad",
   "metadata": {},
   "outputs": [],
   "source": [
    "os.chdir(r'C:\\Users\\m0081459\\Documents\\Jupyter\\Prueba excel')"
   ]
  },
  {
   "cell_type": "code",
   "execution_count": 72,
   "id": "5b304b3d-7dde-4f0e-a83b-6f9b7405936d",
   "metadata": {},
   "outputs": [],
   "source": [
    "df_excel = pd.read_excel(\"Columns.xlsx\", engine='openpyxl')"
   ]
  },
  {
   "cell_type": "code",
   "execution_count": 74,
   "id": "c5b99130-368b-47e5-a3e9-83eed1c0f8db",
   "metadata": {},
   "outputs": [
    {
     "data": {
      "text/html": [
       "<div>\n",
       "<style scoped>\n",
       "    .dataframe tbody tr th:only-of-type {\n",
       "        vertical-align: middle;\n",
       "    }\n",
       "\n",
       "    .dataframe tbody tr th {\n",
       "        vertical-align: top;\n",
       "    }\n",
       "\n",
       "    .dataframe thead th {\n",
       "        text-align: right;\n",
       "    }\n",
       "</style>\n",
       "<table border=\"1\" class=\"dataframe\">\n",
       "  <thead>\n",
       "    <tr style=\"text-align: right;\">\n",
       "      <th></th>\n",
       "      <th>Column</th>\n",
       "      <th>Alias</th>\n",
       "      <th>Project</th>\n",
       "    </tr>\n",
       "  </thead>\n",
       "  <tbody>\n",
       "    <tr>\n",
       "      <th>0</th>\n",
       "      <td>PFC_Temp_M1_C</td>\n",
       "      <td>Temp NTC 1 (cooler)</td>\n",
       "      <td>STEP1</td>\n",
       "    </tr>\n",
       "    <tr>\n",
       "      <th>1</th>\n",
       "      <td>PFC_Temp_M4_C</td>\n",
       "      <td>Temp NTC 4 (cooler)</td>\n",
       "      <td>STEP1</td>\n",
       "    </tr>\n",
       "    <tr>\n",
       "      <th>2</th>\n",
       "      <td>DCDC_Temperature</td>\n",
       "      <td>DCDC Temp</td>\n",
       "      <td>STEP1</td>\n",
       "    </tr>\n",
       "    <tr>\n",
       "      <th>3</th>\n",
       "      <td>Chiller_T_Actl</td>\n",
       "      <td>Coolant Temp</td>\n",
       "      <td>STEP1</td>\n",
       "    </tr>\n",
       "    <tr>\n",
       "      <th>4</th>\n",
       "      <td>OBC_Temp_Ambient</td>\n",
       "      <td>OBC_Temp_Ambient</td>\n",
       "      <td>STEP1</td>\n",
       "    </tr>\n",
       "    <tr>\n",
       "      <th>5</th>\n",
       "      <td>DCHV_ADC_NTC_MOD_5</td>\n",
       "      <td>DCHV_ADC_NTC_MOD_5</td>\n",
       "      <td>STEP1</td>\n",
       "    </tr>\n",
       "    <tr>\n",
       "      <th>6</th>\n",
       "      <td>DCHV_ADC_NTC_MOD_6</td>\n",
       "      <td>DCHV_ADC_NTC_MOD_6</td>\n",
       "      <td>STEP1</td>\n",
       "    </tr>\n",
       "    <tr>\n",
       "      <th>7</th>\n",
       "      <td>OBC_OBCTemp</td>\n",
       "      <td>OBC_OBCTemp</td>\n",
       "      <td>STEP1</td>\n",
       "    </tr>\n",
       "    <tr>\n",
       "      <th>8</th>\n",
       "      <td>DCLV_T_SW_BUCK_A</td>\n",
       "      <td>DCLV_T_SW_BUCK_A</td>\n",
       "      <td>STEP1</td>\n",
       "    </tr>\n",
       "    <tr>\n",
       "      <th>9</th>\n",
       "      <td>DCLV_T_SW_BUCK_A</td>\n",
       "      <td>DCLV_T_SW_BUCK_B</td>\n",
       "      <td>STEP1</td>\n",
       "    </tr>\n",
       "    <tr>\n",
       "      <th>10</th>\n",
       "      <td>DCLV_T_PP_A</td>\n",
       "      <td>DCLV_T_PP_A</td>\n",
       "      <td>STEP1</td>\n",
       "    </tr>\n",
       "    <tr>\n",
       "      <th>11</th>\n",
       "      <td>DCLV_T_PP_B</td>\n",
       "      <td>DCLV_T_PP_B</td>\n",
       "      <td>STEP1</td>\n",
       "    </tr>\n",
       "    <tr>\n",
       "      <th>12</th>\n",
       "      <td>DCDC_Temperature</td>\n",
       "      <td>DCDC_Temperature</td>\n",
       "      <td>STEP1</td>\n",
       "    </tr>\n",
       "    <tr>\n",
       "      <th>13</th>\n",
       "      <td>PFC_Temp_PFC</td>\n",
       "      <td>PFC_Temp_PFC</td>\n",
       "      <td>BEV</td>\n",
       "    </tr>\n",
       "    <tr>\n",
       "      <th>14</th>\n",
       "      <td>PFC_Temp_DCHV</td>\n",
       "      <td>PFC_Temp_DCHV</td>\n",
       "      <td>BEV</td>\n",
       "    </tr>\n",
       "    <tr>\n",
       "      <th>15</th>\n",
       "      <td>DCHV_T_PCB_Measure</td>\n",
       "      <td>DCHV_T_PCB_Measure</td>\n",
       "      <td>BEV</td>\n",
       "    </tr>\n",
       "    <tr>\n",
       "      <th>16</th>\n",
       "      <td>DCHV_T_REC_Measure</td>\n",
       "      <td>DCHV_T_REC_Measure</td>\n",
       "      <td>BEV</td>\n",
       "    </tr>\n",
       "    <tr>\n",
       "      <th>17</th>\n",
       "      <td>DCLV_T_INV_Measure</td>\n",
       "      <td>DCLV_T_INV_Measure</td>\n",
       "      <td>BEV</td>\n",
       "    </tr>\n",
       "    <tr>\n",
       "      <th>18</th>\n",
       "      <td>DCLV_T_SR_Measure</td>\n",
       "      <td>DCLV_T_SR_Measure</td>\n",
       "      <td>BEV</td>\n",
       "    </tr>\n",
       "    <tr>\n",
       "      <th>19</th>\n",
       "      <td>C_chamber_T_actl</td>\n",
       "      <td>C_chamber_T_actl</td>\n",
       "      <td>BEV</td>\n",
       "    </tr>\n",
       "    <tr>\n",
       "      <th>20</th>\n",
       "      <td>Chiller_T_Actl</td>\n",
       "      <td>Chiller_T_Actl</td>\n",
       "      <td>BEV</td>\n",
       "    </tr>\n",
       "    <tr>\n",
       "      <th>21</th>\n",
       "      <td>PFC_Temp_PFC</td>\n",
       "      <td>PFC_Temp_PFC</td>\n",
       "      <td>PHEV</td>\n",
       "    </tr>\n",
       "    <tr>\n",
       "      <th>22</th>\n",
       "      <td>PFC_Temp_DCHV</td>\n",
       "      <td>PFC_Temp_DCHV</td>\n",
       "      <td>PHEV</td>\n",
       "    </tr>\n",
       "    <tr>\n",
       "      <th>23</th>\n",
       "      <td>DCHV_T_PCB_Measure</td>\n",
       "      <td>DCHV_T_PCB_Measure</td>\n",
       "      <td>PHEV</td>\n",
       "    </tr>\n",
       "    <tr>\n",
       "      <th>24</th>\n",
       "      <td>DCHV_T_REC_Measure</td>\n",
       "      <td>DCHV_T_REC_Measure</td>\n",
       "      <td>PHEV</td>\n",
       "    </tr>\n",
       "    <tr>\n",
       "      <th>25</th>\n",
       "      <td>DCLV_T_INV_Measure</td>\n",
       "      <td>DCLV_T_INV_Measure</td>\n",
       "      <td>PHEV</td>\n",
       "    </tr>\n",
       "    <tr>\n",
       "      <th>26</th>\n",
       "      <td>DCLV_T_SR_Measure</td>\n",
       "      <td>DCLV_T_SR_Measure</td>\n",
       "      <td>PHEV</td>\n",
       "    </tr>\n",
       "    <tr>\n",
       "      <th>27</th>\n",
       "      <td>C_chamber_T_actl</td>\n",
       "      <td>C_chamber_T_actl</td>\n",
       "      <td>PHEV</td>\n",
       "    </tr>\n",
       "    <tr>\n",
       "      <th>28</th>\n",
       "      <td>Chiller_T_Actl</td>\n",
       "      <td>Chiller_T_Actl</td>\n",
       "      <td>PHEV</td>\n",
       "    </tr>\n",
       "  </tbody>\n",
       "</table>\n",
       "</div>"
      ],
      "text/plain": [
       "                Column                 Alias Project\n",
       "0        PFC_Temp_M1_C   Temp NTC 1 (cooler)   STEP1\n",
       "1        PFC_Temp_M4_C   Temp NTC 4 (cooler)   STEP1\n",
       "2     DCDC_Temperature             DCDC Temp   STEP1\n",
       "3       Chiller_T_Actl          Coolant Temp   STEP1\n",
       "4     OBC_Temp_Ambient      OBC_Temp_Ambient   STEP1\n",
       "5   DCHV_ADC_NTC_MOD_5    DCHV_ADC_NTC_MOD_5   STEP1\n",
       "6   DCHV_ADC_NTC_MOD_6    DCHV_ADC_NTC_MOD_6   STEP1\n",
       "7          OBC_OBCTemp           OBC_OBCTemp   STEP1\n",
       "8     DCLV_T_SW_BUCK_A      DCLV_T_SW_BUCK_A   STEP1\n",
       "9     DCLV_T_SW_BUCK_A      DCLV_T_SW_BUCK_B   STEP1\n",
       "10         DCLV_T_PP_A           DCLV_T_PP_A   STEP1\n",
       "11         DCLV_T_PP_B           DCLV_T_PP_B   STEP1\n",
       "12    DCDC_Temperature      DCDC_Temperature   STEP1\n",
       "13        PFC_Temp_PFC          PFC_Temp_PFC     BEV\n",
       "14       PFC_Temp_DCHV         PFC_Temp_DCHV     BEV\n",
       "15  DCHV_T_PCB_Measure    DCHV_T_PCB_Measure     BEV\n",
       "16  DCHV_T_REC_Measure    DCHV_T_REC_Measure     BEV\n",
       "17  DCLV_T_INV_Measure    DCLV_T_INV_Measure     BEV\n",
       "18   DCLV_T_SR_Measure     DCLV_T_SR_Measure     BEV\n",
       "19    C_chamber_T_actl      C_chamber_T_actl     BEV\n",
       "20      Chiller_T_Actl        Chiller_T_Actl     BEV\n",
       "21        PFC_Temp_PFC          PFC_Temp_PFC    PHEV\n",
       "22       PFC_Temp_DCHV         PFC_Temp_DCHV    PHEV\n",
       "23  DCHV_T_PCB_Measure    DCHV_T_PCB_Measure    PHEV\n",
       "24  DCHV_T_REC_Measure    DCHV_T_REC_Measure    PHEV\n",
       "25  DCLV_T_INV_Measure    DCLV_T_INV_Measure    PHEV\n",
       "26   DCLV_T_SR_Measure     DCLV_T_SR_Measure    PHEV\n",
       "27    C_chamber_T_actl      C_chamber_T_actl    PHEV\n",
       "28      Chiller_T_Actl        Chiller_T_Actl    PHEV"
      ]
     },
     "execution_count": 74,
     "metadata": {},
     "output_type": "execute_result"
    }
   ],
   "source": [
    "df_excel"
   ]
  },
  {
   "cell_type": "code",
   "execution_count": 75,
   "id": "16528d38-4dcd-4357-aa73-74f8668929f2",
   "metadata": {},
   "outputs": [
    {
     "data": {
      "text/html": [
       "<div>\n",
       "<style scoped>\n",
       "    .dataframe tbody tr th:only-of-type {\n",
       "        vertical-align: middle;\n",
       "    }\n",
       "\n",
       "    .dataframe tbody tr th {\n",
       "        vertical-align: top;\n",
       "    }\n",
       "\n",
       "    .dataframe thead th {\n",
       "        text-align: right;\n",
       "    }\n",
       "</style>\n",
       "<table border=\"1\" class=\"dataframe\">\n",
       "  <thead>\n",
       "    <tr style=\"text-align: right;\">\n",
       "      <th></th>\n",
       "      <th>Column</th>\n",
       "      <th>Alias</th>\n",
       "      <th>Project</th>\n",
       "    </tr>\n",
       "  </thead>\n",
       "  <tbody>\n",
       "    <tr>\n",
       "      <th>13</th>\n",
       "      <td>PFC_Temp_PFC</td>\n",
       "      <td>PFC_Temp_PFC</td>\n",
       "      <td>BEV</td>\n",
       "    </tr>\n",
       "    <tr>\n",
       "      <th>14</th>\n",
       "      <td>PFC_Temp_DCHV</td>\n",
       "      <td>PFC_Temp_DCHV</td>\n",
       "      <td>BEV</td>\n",
       "    </tr>\n",
       "    <tr>\n",
       "      <th>15</th>\n",
       "      <td>DCHV_T_PCB_Measure</td>\n",
       "      <td>DCHV_T_PCB_Measure</td>\n",
       "      <td>BEV</td>\n",
       "    </tr>\n",
       "    <tr>\n",
       "      <th>16</th>\n",
       "      <td>DCHV_T_REC_Measure</td>\n",
       "      <td>DCHV_T_REC_Measure</td>\n",
       "      <td>BEV</td>\n",
       "    </tr>\n",
       "    <tr>\n",
       "      <th>17</th>\n",
       "      <td>DCLV_T_INV_Measure</td>\n",
       "      <td>DCLV_T_INV_Measure</td>\n",
       "      <td>BEV</td>\n",
       "    </tr>\n",
       "    <tr>\n",
       "      <th>18</th>\n",
       "      <td>DCLV_T_SR_Measure</td>\n",
       "      <td>DCLV_T_SR_Measure</td>\n",
       "      <td>BEV</td>\n",
       "    </tr>\n",
       "    <tr>\n",
       "      <th>19</th>\n",
       "      <td>C_chamber_T_actl</td>\n",
       "      <td>C_chamber_T_actl</td>\n",
       "      <td>BEV</td>\n",
       "    </tr>\n",
       "    <tr>\n",
       "      <th>20</th>\n",
       "      <td>Chiller_T_Actl</td>\n",
       "      <td>Chiller_T_Actl</td>\n",
       "      <td>BEV</td>\n",
       "    </tr>\n",
       "  </tbody>\n",
       "</table>\n",
       "</div>"
      ],
      "text/plain": [
       "                Column                Alias Project\n",
       "13        PFC_Temp_PFC         PFC_Temp_PFC     BEV\n",
       "14       PFC_Temp_DCHV        PFC_Temp_DCHV     BEV\n",
       "15  DCHV_T_PCB_Measure   DCHV_T_PCB_Measure     BEV\n",
       "16  DCHV_T_REC_Measure   DCHV_T_REC_Measure     BEV\n",
       "17  DCLV_T_INV_Measure   DCLV_T_INV_Measure     BEV\n",
       "18   DCLV_T_SR_Measure    DCLV_T_SR_Measure     BEV\n",
       "19    C_chamber_T_actl     C_chamber_T_actl     BEV\n",
       "20      Chiller_T_Actl       Chiller_T_Actl     BEV"
      ]
     },
     "execution_count": 75,
     "metadata": {},
     "output_type": "execute_result"
    }
   ],
   "source": [
    "df_excel[df_excel[\"Project\"]==project[1]]"
   ]
  },
  {
   "cell_type": "code",
   "execution_count": 85,
   "id": "39c3f683-321b-4fad-9b95-d0a5656de5e0",
   "metadata": {},
   "outputs": [],
   "source": [
    "def temp_columns(data, excel, project):\n",
    "    cols = [column for column in excel[\"Column\"].unique() if column in data.columns]\n",
    "    labels = dict(zip(excel[\"Column\"][excel[\"Column\"]==cols],excel[\"Alias\"][excel[\"Column\"]==cols]))\n",
    "    return labels"
   ]
  },
  {
   "cell_type": "code",
   "execution_count": 76,
   "id": "0b67cda1-87dc-473a-a5c4-19a5b1557fde",
   "metadata": {},
   "outputs": [],
   "source": [
    "excel_file=pd.ExcelFile(os.path.join(os.getcwd(),\"Columns.xlsx\"),engine='openpyxl')"
   ]
  },
  {
   "cell_type": "code",
   "execution_count": 78,
   "id": "69305ea6-3777-4d27-a72b-8287e8aca4f2",
   "metadata": {},
   "outputs": [],
   "source": [
    "columns = ['PFC_Temp_PFC','C_chamber_T_actl']"
   ]
  },
  {
   "cell_type": "code",
   "execution_count": 81,
   "id": "8170c270-0059-48f7-88fc-22d1530e4f9c",
   "metadata": {},
   "outputs": [],
   "source": [
    "filtro = [column for column in df_excel[\"Column\"].unique() if column in df.columns]"
   ]
  },
  {
   "cell_type": "code",
   "execution_count": 82,
   "id": "40a91b91-2e84-48c5-a209-e509d9544160",
   "metadata": {},
   "outputs": [
    {
     "data": {
      "text/html": [
       "<div>\n",
       "<style scoped>\n",
       "    .dataframe tbody tr th:only-of-type {\n",
       "        vertical-align: middle;\n",
       "    }\n",
       "\n",
       "    .dataframe tbody tr th {\n",
       "        vertical-align: top;\n",
       "    }\n",
       "\n",
       "    .dataframe thead th {\n",
       "        text-align: right;\n",
       "    }\n",
       "</style>\n",
       "<table border=\"1\" class=\"dataframe\">\n",
       "  <thead>\n",
       "    <tr style=\"text-align: right;\">\n",
       "      <th></th>\n",
       "      <th>Chiller_T_Actl</th>\n",
       "      <th>PFC_Temp_PFC</th>\n",
       "      <th>PFC_Temp_DCHV</th>\n",
       "      <th>DCHV_T_PCB_Measure</th>\n",
       "      <th>DCHV_T_REC_Measure</th>\n",
       "      <th>DCLV_T_INV_Measure</th>\n",
       "      <th>DCLV_T_SR_Measure</th>\n",
       "      <th>C_chamber_T_actl</th>\n",
       "    </tr>\n",
       "  </thead>\n",
       "  <tbody>\n",
       "    <tr>\n",
       "      <th>0</th>\n",
       "      <td>48.28</td>\n",
       "      <td>53.0</td>\n",
       "      <td>54.9</td>\n",
       "      <td>55.7</td>\n",
       "      <td>51.8</td>\n",
       "      <td>50.7</td>\n",
       "      <td>47.2</td>\n",
       "      <td>49.31</td>\n",
       "    </tr>\n",
       "    <tr>\n",
       "      <th>1</th>\n",
       "      <td>48.36</td>\n",
       "      <td>52.5</td>\n",
       "      <td>54.9</td>\n",
       "      <td>55.0</td>\n",
       "      <td>51.8</td>\n",
       "      <td>50.7</td>\n",
       "      <td>51.3</td>\n",
       "      <td>49.34</td>\n",
       "    </tr>\n",
       "    <tr>\n",
       "      <th>2</th>\n",
       "      <td>48.43</td>\n",
       "      <td>52.5</td>\n",
       "      <td>54.8</td>\n",
       "      <td>55.1</td>\n",
       "      <td>51.7</td>\n",
       "      <td>50.6</td>\n",
       "      <td>48.6</td>\n",
       "      <td>49.36</td>\n",
       "    </tr>\n",
       "    <tr>\n",
       "      <th>3</th>\n",
       "      <td>48.50</td>\n",
       "      <td>52.5</td>\n",
       "      <td>54.8</td>\n",
       "      <td>55.2</td>\n",
       "      <td>51.7</td>\n",
       "      <td>50.7</td>\n",
       "      <td>47.8</td>\n",
       "      <td>49.36</td>\n",
       "    </tr>\n",
       "    <tr>\n",
       "      <th>4</th>\n",
       "      <td>48.57</td>\n",
       "      <td>52.6</td>\n",
       "      <td>54.8</td>\n",
       "      <td>56.2</td>\n",
       "      <td>51.7</td>\n",
       "      <td>50.7</td>\n",
       "      <td>47.4</td>\n",
       "      <td>49.36</td>\n",
       "    </tr>\n",
       "    <tr>\n",
       "      <th>...</th>\n",
       "      <td>...</td>\n",
       "      <td>...</td>\n",
       "      <td>...</td>\n",
       "      <td>...</td>\n",
       "      <td>...</td>\n",
       "      <td>...</td>\n",
       "      <td>...</td>\n",
       "      <td>...</td>\n",
       "    </tr>\n",
       "    <tr>\n",
       "      <th>1227</th>\n",
       "      <td>105.10</td>\n",
       "      <td>106.9</td>\n",
       "      <td>110.4</td>\n",
       "      <td>104.9</td>\n",
       "      <td>107.2</td>\n",
       "      <td>104.3</td>\n",
       "      <td>101.4</td>\n",
       "      <td>105.31</td>\n",
       "    </tr>\n",
       "    <tr>\n",
       "      <th>1228</th>\n",
       "      <td>105.11</td>\n",
       "      <td>106.8</td>\n",
       "      <td>110.4</td>\n",
       "      <td>105.2</td>\n",
       "      <td>107.0</td>\n",
       "      <td>103.9</td>\n",
       "      <td>101.3</td>\n",
       "      <td>105.30</td>\n",
       "    </tr>\n",
       "    <tr>\n",
       "      <th>1229</th>\n",
       "      <td>105.05</td>\n",
       "      <td>106.5</td>\n",
       "      <td>110.4</td>\n",
       "      <td>105.4</td>\n",
       "      <td>107.2</td>\n",
       "      <td>104.3</td>\n",
       "      <td>101.4</td>\n",
       "      <td>105.30</td>\n",
       "    </tr>\n",
       "    <tr>\n",
       "      <th>1230</th>\n",
       "      <td>105.07</td>\n",
       "      <td>108.1</td>\n",
       "      <td>110.4</td>\n",
       "      <td>103.7</td>\n",
       "      <td>107.0</td>\n",
       "      <td>103.9</td>\n",
       "      <td>101.1</td>\n",
       "      <td>105.30</td>\n",
       "    </tr>\n",
       "    <tr>\n",
       "      <th>1231</th>\n",
       "      <td>105.11</td>\n",
       "      <td>106.0</td>\n",
       "      <td>110.4</td>\n",
       "      <td>103.6</td>\n",
       "      <td>107.2</td>\n",
       "      <td>104.1</td>\n",
       "      <td>101.3</td>\n",
       "      <td>105.30</td>\n",
       "    </tr>\n",
       "  </tbody>\n",
       "</table>\n",
       "<p>1232 rows × 8 columns</p>\n",
       "</div>"
      ],
      "text/plain": [
       "      Chiller_T_Actl  PFC_Temp_PFC  PFC_Temp_DCHV  DCHV_T_PCB_Measure  \\\n",
       "0              48.28          53.0           54.9                55.7   \n",
       "1              48.36          52.5           54.9                55.0   \n",
       "2              48.43          52.5           54.8                55.1   \n",
       "3              48.50          52.5           54.8                55.2   \n",
       "4              48.57          52.6           54.8                56.2   \n",
       "...              ...           ...            ...                 ...   \n",
       "1227          105.10         106.9          110.4               104.9   \n",
       "1228          105.11         106.8          110.4               105.2   \n",
       "1229          105.05         106.5          110.4               105.4   \n",
       "1230          105.07         108.1          110.4               103.7   \n",
       "1231          105.11         106.0          110.4               103.6   \n",
       "\n",
       "      DCHV_T_REC_Measure  DCLV_T_INV_Measure  DCLV_T_SR_Measure  \\\n",
       "0                   51.8                50.7               47.2   \n",
       "1                   51.8                50.7               51.3   \n",
       "2                   51.7                50.6               48.6   \n",
       "3                   51.7                50.7               47.8   \n",
       "4                   51.7                50.7               47.4   \n",
       "...                  ...                 ...                ...   \n",
       "1227               107.2               104.3              101.4   \n",
       "1228               107.0               103.9              101.3   \n",
       "1229               107.2               104.3              101.4   \n",
       "1230               107.0               103.9              101.1   \n",
       "1231               107.2               104.1              101.3   \n",
       "\n",
       "      C_chamber_T_actl  \n",
       "0                49.31  \n",
       "1                49.34  \n",
       "2                49.36  \n",
       "3                49.36  \n",
       "4                49.36  \n",
       "...                ...  \n",
       "1227            105.31  \n",
       "1228            105.30  \n",
       "1229            105.30  \n",
       "1230            105.30  \n",
       "1231            105.30  \n",
       "\n",
       "[1232 rows x 8 columns]"
      ]
     },
     "execution_count": 82,
     "metadata": {},
     "output_type": "execute_result"
    }
   ],
   "source": [
    "df[filtro]"
   ]
  },
  {
   "cell_type": "code",
   "execution_count": 86,
   "id": "b2dc4c24-b42a-4909-b663-8218306d79c5",
   "metadata": {},
   "outputs": [
    {
     "ename": "ValueError",
     "evalue": "('Lengths must match to compare', (29,), (8,))",
     "output_type": "error",
     "traceback": [
      "\u001b[1;31m---------------------------------------------------------------------------\u001b[0m",
      "\u001b[1;31mValueError\u001b[0m                                Traceback (most recent call last)",
      "\u001b[1;32m<ipython-input-86-d7efdc12c7dc>\u001b[0m in \u001b[0;36m<module>\u001b[1;34m\u001b[0m\n\u001b[1;32m----> 1\u001b[1;33m \u001b[0mTemp_labels\u001b[0m \u001b[1;33m=\u001b[0m \u001b[0mtemp_columns\u001b[0m\u001b[1;33m(\u001b[0m\u001b[0mdf\u001b[0m\u001b[1;33m,\u001b[0m\u001b[0mdf_excel\u001b[0m\u001b[1;33m,\u001b[0m\u001b[0mproject\u001b[0m\u001b[1;33m[\u001b[0m\u001b[1;36m1\u001b[0m\u001b[1;33m]\u001b[0m\u001b[1;33m)\u001b[0m\u001b[1;33m\u001b[0m\u001b[1;33m\u001b[0m\u001b[0m\n\u001b[0m",
      "\u001b[1;32m<ipython-input-85-9501622c58a3>\u001b[0m in \u001b[0;36mtemp_columns\u001b[1;34m(data, excel, project)\u001b[0m\n\u001b[0;32m      1\u001b[0m \u001b[1;32mdef\u001b[0m \u001b[0mtemp_columns\u001b[0m\u001b[1;33m(\u001b[0m\u001b[0mdata\u001b[0m\u001b[1;33m,\u001b[0m \u001b[0mexcel\u001b[0m\u001b[1;33m,\u001b[0m \u001b[0mproject\u001b[0m\u001b[1;33m)\u001b[0m\u001b[1;33m:\u001b[0m\u001b[1;33m\u001b[0m\u001b[1;33m\u001b[0m\u001b[0m\n\u001b[0;32m      2\u001b[0m     \u001b[0mcols\u001b[0m \u001b[1;33m=\u001b[0m \u001b[1;33m[\u001b[0m\u001b[0mcolumn\u001b[0m \u001b[1;32mfor\u001b[0m \u001b[0mcolumn\u001b[0m \u001b[1;32min\u001b[0m \u001b[0mexcel\u001b[0m\u001b[1;33m[\u001b[0m\u001b[1;34m\"Column\"\u001b[0m\u001b[1;33m]\u001b[0m\u001b[1;33m.\u001b[0m\u001b[0munique\u001b[0m\u001b[1;33m(\u001b[0m\u001b[1;33m)\u001b[0m \u001b[1;32mif\u001b[0m \u001b[0mcolumn\u001b[0m \u001b[1;32min\u001b[0m \u001b[0mdata\u001b[0m\u001b[1;33m.\u001b[0m\u001b[0mcolumns\u001b[0m\u001b[1;33m]\u001b[0m\u001b[1;33m\u001b[0m\u001b[1;33m\u001b[0m\u001b[0m\n\u001b[1;32m----> 3\u001b[1;33m     \u001b[0mlabels\u001b[0m \u001b[1;33m=\u001b[0m \u001b[0mdict\u001b[0m\u001b[1;33m(\u001b[0m\u001b[0mzip\u001b[0m\u001b[1;33m(\u001b[0m\u001b[0mexcel\u001b[0m\u001b[1;33m[\u001b[0m\u001b[1;34m\"Column\"\u001b[0m\u001b[1;33m]\u001b[0m\u001b[1;33m[\u001b[0m\u001b[0mexcel\u001b[0m\u001b[1;33m[\u001b[0m\u001b[1;34m\"Column\"\u001b[0m\u001b[1;33m]\u001b[0m\u001b[1;33m==\u001b[0m\u001b[0mcols\u001b[0m\u001b[1;33m]\u001b[0m\u001b[1;33m,\u001b[0m\u001b[0mexcel\u001b[0m\u001b[1;33m[\u001b[0m\u001b[1;34m\"Alias\"\u001b[0m\u001b[1;33m]\u001b[0m\u001b[1;33m[\u001b[0m\u001b[0mexcel\u001b[0m\u001b[1;33m[\u001b[0m\u001b[1;34m\"Column\"\u001b[0m\u001b[1;33m]\u001b[0m\u001b[1;33m==\u001b[0m\u001b[0mcols\u001b[0m\u001b[1;33m]\u001b[0m\u001b[1;33m)\u001b[0m\u001b[1;33m)\u001b[0m\u001b[1;33m\u001b[0m\u001b[1;33m\u001b[0m\u001b[0m\n\u001b[0m\u001b[0;32m      4\u001b[0m     \u001b[1;32mreturn\u001b[0m \u001b[0mlabels\u001b[0m\u001b[1;33m\u001b[0m\u001b[1;33m\u001b[0m\u001b[0m\n",
      "\u001b[1;32m~\\AppData\\Roaming\\Python\\Python37\\site-packages\\pandas\\core\\ops\\common.py\u001b[0m in \u001b[0;36mnew_method\u001b[1;34m(self, other)\u001b[0m\n\u001b[0;32m     63\u001b[0m         \u001b[0mother\u001b[0m \u001b[1;33m=\u001b[0m \u001b[0mitem_from_zerodim\u001b[0m\u001b[1;33m(\u001b[0m\u001b[0mother\u001b[0m\u001b[1;33m)\u001b[0m\u001b[1;33m\u001b[0m\u001b[1;33m\u001b[0m\u001b[0m\n\u001b[0;32m     64\u001b[0m \u001b[1;33m\u001b[0m\u001b[0m\n\u001b[1;32m---> 65\u001b[1;33m         \u001b[1;32mreturn\u001b[0m \u001b[0mmethod\u001b[0m\u001b[1;33m(\u001b[0m\u001b[0mself\u001b[0m\u001b[1;33m,\u001b[0m \u001b[0mother\u001b[0m\u001b[1;33m)\u001b[0m\u001b[1;33m\u001b[0m\u001b[1;33m\u001b[0m\u001b[0m\n\u001b[0m\u001b[0;32m     66\u001b[0m \u001b[1;33m\u001b[0m\u001b[0m\n\u001b[0;32m     67\u001b[0m     \u001b[1;32mreturn\u001b[0m \u001b[0mnew_method\u001b[0m\u001b[1;33m\u001b[0m\u001b[1;33m\u001b[0m\u001b[0m\n",
      "\u001b[1;32m~\\AppData\\Roaming\\Python\\Python37\\site-packages\\pandas\\core\\arraylike.py\u001b[0m in \u001b[0;36m__eq__\u001b[1;34m(self, other)\u001b[0m\n\u001b[0;32m     27\u001b[0m     \u001b[1;33m@\u001b[0m\u001b[0munpack_zerodim_and_defer\u001b[0m\u001b[1;33m(\u001b[0m\u001b[1;34m\"__eq__\"\u001b[0m\u001b[1;33m)\u001b[0m\u001b[1;33m\u001b[0m\u001b[1;33m\u001b[0m\u001b[0m\n\u001b[0;32m     28\u001b[0m     \u001b[1;32mdef\u001b[0m \u001b[0m__eq__\u001b[0m\u001b[1;33m(\u001b[0m\u001b[0mself\u001b[0m\u001b[1;33m,\u001b[0m \u001b[0mother\u001b[0m\u001b[1;33m)\u001b[0m\u001b[1;33m:\u001b[0m\u001b[1;33m\u001b[0m\u001b[1;33m\u001b[0m\u001b[0m\n\u001b[1;32m---> 29\u001b[1;33m         \u001b[1;32mreturn\u001b[0m \u001b[0mself\u001b[0m\u001b[1;33m.\u001b[0m\u001b[0m_cmp_method\u001b[0m\u001b[1;33m(\u001b[0m\u001b[0mother\u001b[0m\u001b[1;33m,\u001b[0m \u001b[0moperator\u001b[0m\u001b[1;33m.\u001b[0m\u001b[0meq\u001b[0m\u001b[1;33m)\u001b[0m\u001b[1;33m\u001b[0m\u001b[1;33m\u001b[0m\u001b[0m\n\u001b[0m\u001b[0;32m     30\u001b[0m \u001b[1;33m\u001b[0m\u001b[0m\n\u001b[0;32m     31\u001b[0m     \u001b[1;33m@\u001b[0m\u001b[0munpack_zerodim_and_defer\u001b[0m\u001b[1;33m(\u001b[0m\u001b[1;34m\"__ne__\"\u001b[0m\u001b[1;33m)\u001b[0m\u001b[1;33m\u001b[0m\u001b[1;33m\u001b[0m\u001b[0m\n",
      "\u001b[1;32m~\\AppData\\Roaming\\Python\\Python37\\site-packages\\pandas\\core\\series.py\u001b[0m in \u001b[0;36m_cmp_method\u001b[1;34m(self, other, op)\u001b[0m\n\u001b[0;32m   4946\u001b[0m         \u001b[0mrvalues\u001b[0m \u001b[1;33m=\u001b[0m \u001b[0mextract_array\u001b[0m\u001b[1;33m(\u001b[0m\u001b[0mother\u001b[0m\u001b[1;33m,\u001b[0m \u001b[0mextract_numpy\u001b[0m\u001b[1;33m=\u001b[0m\u001b[1;32mTrue\u001b[0m\u001b[1;33m)\u001b[0m\u001b[1;33m\u001b[0m\u001b[1;33m\u001b[0m\u001b[0m\n\u001b[0;32m   4947\u001b[0m \u001b[1;33m\u001b[0m\u001b[0m\n\u001b[1;32m-> 4948\u001b[1;33m         \u001b[0mres_values\u001b[0m \u001b[1;33m=\u001b[0m \u001b[0mops\u001b[0m\u001b[1;33m.\u001b[0m\u001b[0mcomparison_op\u001b[0m\u001b[1;33m(\u001b[0m\u001b[0mlvalues\u001b[0m\u001b[1;33m,\u001b[0m \u001b[0mrvalues\u001b[0m\u001b[1;33m,\u001b[0m \u001b[0mop\u001b[0m\u001b[1;33m)\u001b[0m\u001b[1;33m\u001b[0m\u001b[1;33m\u001b[0m\u001b[0m\n\u001b[0m\u001b[0;32m   4949\u001b[0m \u001b[1;33m\u001b[0m\u001b[0m\n\u001b[0;32m   4950\u001b[0m         \u001b[1;32mreturn\u001b[0m \u001b[0mself\u001b[0m\u001b[1;33m.\u001b[0m\u001b[0m_construct_result\u001b[0m\u001b[1;33m(\u001b[0m\u001b[0mres_values\u001b[0m\u001b[1;33m,\u001b[0m \u001b[0mname\u001b[0m\u001b[1;33m=\u001b[0m\u001b[0mres_name\u001b[0m\u001b[1;33m)\u001b[0m\u001b[1;33m\u001b[0m\u001b[1;33m\u001b[0m\u001b[0m\n",
      "\u001b[1;32m~\\AppData\\Roaming\\Python\\Python37\\site-packages\\pandas\\core\\ops\\array_ops.py\u001b[0m in \u001b[0;36mcomparison_op\u001b[1;34m(left, right, op)\u001b[0m\n\u001b[0;32m    222\u001b[0m         \u001b[1;32mif\u001b[0m \u001b[0mlen\u001b[0m\u001b[1;33m(\u001b[0m\u001b[0mlvalues\u001b[0m\u001b[1;33m)\u001b[0m \u001b[1;33m!=\u001b[0m \u001b[0mlen\u001b[0m\u001b[1;33m(\u001b[0m\u001b[0mrvalues\u001b[0m\u001b[1;33m)\u001b[0m\u001b[1;33m:\u001b[0m\u001b[1;33m\u001b[0m\u001b[1;33m\u001b[0m\u001b[0m\n\u001b[0;32m    223\u001b[0m             raise ValueError(\n\u001b[1;32m--> 224\u001b[1;33m                 \u001b[1;34m\"Lengths must match to compare\"\u001b[0m\u001b[1;33m,\u001b[0m \u001b[0mlvalues\u001b[0m\u001b[1;33m.\u001b[0m\u001b[0mshape\u001b[0m\u001b[1;33m,\u001b[0m \u001b[0mrvalues\u001b[0m\u001b[1;33m.\u001b[0m\u001b[0mshape\u001b[0m\u001b[1;33m\u001b[0m\u001b[1;33m\u001b[0m\u001b[0m\n\u001b[0m\u001b[0;32m    225\u001b[0m             )\n\u001b[0;32m    226\u001b[0m \u001b[1;33m\u001b[0m\u001b[0m\n",
      "\u001b[1;31mValueError\u001b[0m: ('Lengths must match to compare', (29,), (8,))"
     ]
    }
   ],
   "source": [
    "Temp_labels = temp_columns(df,df_excel,project[1])"
   ]
  },
  {
   "cell_type": "code",
   "execution_count": null,
   "id": "b8ba360b-6991-4a05-809b-e309bc095f0a",
   "metadata": {},
   "outputs": [],
   "source": []
  }
 ],
 "metadata": {
  "kernelspec": {
   "display_name": "Python 3",
   "language": "python",
   "name": "python3"
  },
  "language_info": {
   "codemirror_mode": {
    "name": "ipython",
    "version": 3
   },
   "file_extension": ".py",
   "mimetype": "text/x-python",
   "name": "python",
   "nbconvert_exporter": "python",
   "pygments_lexer": "ipython3",
   "version": "3.7.2"
  }
 },
 "nbformat": 4,
 "nbformat_minor": 5
}
