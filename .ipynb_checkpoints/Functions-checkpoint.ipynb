{
 "cells": [
  {
   "cell_type": "markdown",
   "id": "7d8189c0-93c2-4070-b3db-9a99986342fb",
   "metadata": {},
   "source": [
    "## 1.1 Import libraries"
   ]
  },
  {
   "cell_type": "code",
   "execution_count": 1,
   "id": "damaged-plymouth",
   "metadata": {},
   "outputs": [
    {
     "data": {
      "text/html": [
       "        <script type=\"text/javascript\">\n",
       "        window.PlotlyConfig = {MathJaxConfig: 'local'};\n",
       "        if (window.MathJax) {MathJax.Hub.Config({SVG: {font: \"STIX-Web\"}});}\n",
       "        if (typeof require !== 'undefined') {\n",
       "        require.undef(\"plotly\");\n",
       "        requirejs.config({\n",
       "            paths: {\n",
       "                'plotly': ['https://cdn.plot.ly/plotly-latest.min']\n",
       "            }\n",
       "        });\n",
       "        require(['plotly'], function(Plotly) {\n",
       "            window._Plotly = Plotly;\n",
       "        });\n",
       "        }\n",
       "        </script>\n",
       "        "
      ]
     },
     "metadata": {},
     "output_type": "display_data"
    },
    {
     "data": {
      "text/html": [
       "        <script type=\"text/javascript\">\n",
       "        window.PlotlyConfig = {MathJaxConfig: 'local'};\n",
       "        if (window.MathJax) {MathJax.Hub.Config({SVG: {font: \"STIX-Web\"}});}\n",
       "        if (typeof require !== 'undefined') {\n",
       "        require.undef(\"plotly\");\n",
       "        requirejs.config({\n",
       "            paths: {\n",
       "                'plotly': ['https://cdn.plot.ly/plotly-latest.min']\n",
       "            }\n",
       "        });\n",
       "        require(['plotly'], function(Plotly) {\n",
       "            window._Plotly = Plotly;\n",
       "        });\n",
       "        }\n",
       "        </script>\n",
       "        "
      ]
     },
     "metadata": {},
     "output_type": "display_data"
    }
   ],
   "source": [
    "#General\n",
    "import os\n",
    "import glob\n",
    "import numpy as np\n",
    "import pandas as pd\n",
    "#Plotly libraries\n",
    "import plotly.graph_objs as go\n",
    "import plotly\n",
    "import cufflinks as cf\n",
    "from plotly.subplots import make_subplots\n",
    "from plotly.offline import download_plotlyjs, init_notebook_mode, plot, iplot\n",
    "#Plotly Initialization for Jupyter notebook\n",
    "init_notebook_mode(connected=True)\n",
    "cf.go_offline()"
   ]
  },
  {
   "cell_type": "markdown",
   "id": "c6abf269-b6e4-43dc-abdd-241cc99f36ba",
   "metadata": {},
   "source": [
    "## 1.2 Functions"
   ]
  },
  {
   "cell_type": "markdown",
   "id": "b21a7c2f-36de-449a-8427-e6c09b4b0576",
   "metadata": {},
   "source": [
    "### _Get file size_"
   ]
  },
  {
   "cell_type": "code",
   "execution_count": 2,
   "id": "e381fe85-9ccb-4e14-908a-4e1e0ea605c5",
   "metadata": {},
   "outputs": [],
   "source": [
    "def get_file_size(file_path):\n",
    "    size=os.path.getsize(file_path)\n",
    "    return np.round(size/1024/1024,2) #Returns size in MB"
   ]
  },
  {
   "cell_type": "markdown",
   "id": "6e0bcd5d-76fc-4c8e-a694-39a9364b6fee",
   "metadata": {
    "tags": []
   },
   "source": [
    "### _Get keys from dictionaries and create a list of all keys given multiple dictionaries__"
   ]
  },
  {
   "cell_type": "code",
   "execution_count": 3,
   "id": "11283e18-775c-40a0-96e1-0f906ee3a010",
   "metadata": {},
   "outputs": [],
   "source": [
    "def get_keys(dictionary):\n",
    "    return list(dictionary.keys())\n",
    "def get_values(dictionary):\n",
    "    return list(dictionary.values())\n",
    "\n",
    "def get_labels(*labels):\n",
    "    columns=[]\n",
    "    for i in labels:\n",
    "        columns = columns + get_values(i)\n",
    "    return columns"
   ]
  },
  {
   "cell_type": "markdown",
   "id": "39a0a7ca-6091-4383-ba2a-ea3763d6ca3e",
   "metadata": {},
   "source": [
    "### _Merge dictionaries_"
   ]
  },
  {
   "cell_type": "code",
   "execution_count": 4,
   "id": "4099493a-0e00-4415-83b0-dd3eb6343be0",
   "metadata": {},
   "outputs": [],
   "source": [
    "def merge_dicts(*dict_args):\n",
    "    \"\"\"\n",
    "    Given any number of dictionaries, shallow copy and merge into a new dict,\n",
    "    precedence goes to key-value pairs in latter dictionaries.\n",
    "    \"\"\"\n",
    "    result = {}\n",
    "    for dictionary in dict_args:\n",
    "        result.update(dictionary)\n",
    "    return result"
   ]
  },
  {
   "cell_type": "markdown",
   "id": "bcc2f3c6-a77d-407f-97da-bd44ea8d0d44",
   "metadata": {},
   "source": [
    "### _Plot with one Y axis_"
   ]
  },
  {
   "cell_type": "code",
   "execution_count": 18,
   "id": "f3ec7185-d60a-42f2-b953-cf6f27a55294",
   "metadata": {},
   "outputs": [],
   "source": [
    "def plot_1_yaxis(title, df, xColumn, yColumns, yTitle, yRange):\n",
    "    #File\n",
    "    file_name = test + \" - \" + title\n",
    "    file = file_name  + file_type\n",
    "    #Check if all columns are in the data frame\n",
    "    columns = [xColumn] + yColumns\n",
    "    if all(i in df.columns for i in columns):\n",
    "        #CREATE PLOT\n",
    "        fig = go.Figure()\n",
    "        fig = df_plot[columns].iplot(title = file_name, x = xColumn, xTitle = 'Time[h]', line_shape='hv', yTitle = yTitle, asFigure = True, filename = file_name)\n",
    "\n",
    "        fig.update_xaxes(showspikes=True, spikecolor=\"green\", spikesnap=\"cursor\", spikemode=\"across\")\n",
    "        fig.update_yaxes(showspikes=True, spikecolor=\"orange\", spikethickness=2)\n",
    "        #fig_temp.layout.yaxis.range = yRange\n",
    "        #Hover\n",
    "        fig.update_layout(spikedistance=1000, hoverdistance=100)\n",
    "        fig.layout.hovermode = 'x'\n",
    "        #Margins on sides, top and bottom\n",
    "        fig.layout.margin['t'] = 60\n",
    "        fig.layout.margin['b'] = 60\n",
    "        #Labels size\n",
    "        fig.layout.xaxis.tickfont.size = 10 #X axis text size\n",
    "        #Background\n",
    "        fig.layout.paper_bgcolor='rgba(0,0,0,0)'\n",
    "        fig.layout.plot_bgcolor='rgba(0,0,0,0)'\n",
    "        fig.layout.legend.bgcolor='rgba(0,0,0,0)'\n",
    "\n",
    "        #Save to file to chosen directory\n",
    "        fig.write_image(dirPlot + \"\\\\\" + file_name + \".pdf\", width = resolution[0], height = resolution[1], scale = 1) #Save in PDF\n",
    "        plotly.offline.plot(fig, filename = file) # Save HTML\n",
    "        \n",
    "        return {\n",
    "            \"Title\":title,\n",
    "            \"Figure\":fig,\n",
    "            \"Columns\":yColumns,\n",
    "            \"yTitle\": yTitle\n",
    "        }\n",
    "    else:\n",
    "        print(\"Not all columns were found in the DataFrame\")"
   ]
  },
  {
   "cell_type": "markdown",
   "id": "292e0ee5-7f8d-498a-8880-51b2a2944bdc",
   "metadata": {},
   "source": [
    "### _Plot with two Y axes_"
   ]
  },
  {
   "cell_type": "code",
   "execution_count": 19,
   "id": "ebffe8d2-6341-415b-b6c8-9b8eebafc6b5",
   "metadata": {},
   "outputs": [],
   "source": [
    "def plot_2_yaxes(title, df, xColumn, yColumns1, yColumns2, yTitle1, yTitle2, yRange1, yRange2):\n",
    "    #File\n",
    "    file_name = test + \" - \" + title\n",
    "    file = file_name  + file_type\n",
    "    #Check if all columns are in the data frame\n",
    "    columns = [xColumn] + yColumns1 + yColumns2\n",
    "    if all(i in df.columns for i in columns):\n",
    "        #CREATE PLOT\n",
    "        fig = go.Figure()\n",
    "        #Plot voltage on Y axis 1\n",
    "        for i in yColumns1:\n",
    "            fig.add_trace(go.Scatter(y = df_plot[i], x = df[xColumn], name=i, yaxis = \"y1\", line_shape='hv'))\n",
    "        #Plot current on Y axis 2\n",
    "        for i in yColumns2:\n",
    "            fig.add_trace(go.Scatter(y = df_plot[i], x = df[xColumn], name=i, yaxis =\"y2\", line_shape='hv'))\n",
    "\n",
    "        #FORMAT\n",
    "        #Set layout\n",
    "        fig.layout.update(\n",
    "        title = file_name,\n",
    "        xaxis=dict(\n",
    "            title = 'Time[h]',\n",
    "            showgrid = True,      \n",
    "            gridcolor = 'lightgrey', \n",
    "        ),    \n",
    "        yaxis=dict(\n",
    "            title= yTitle1,\n",
    "            range= yRange1,\n",
    "            showline = True,\n",
    "            linewidth=1, \n",
    "            linecolor='black',        \n",
    "            showgrid = True,\n",
    "            gridcolor = 'lightgrey'\n",
    "        ),\n",
    "        yaxis2=dict(\n",
    "            title=yTitle2,\n",
    "            range=yRange2,\n",
    "            overlaying=\"y1\",\n",
    "            side=\"right\",\n",
    "            showline = True,\n",
    "            linewidth=1, \n",
    "            linecolor='blue',        \n",
    "            showgrid = True,\n",
    "            gridcolor = 'lightblue'\n",
    "        ),    \n",
    "        )\n",
    "        #Format Plot\n",
    "        #Axes\n",
    "        fig.update_xaxes(showspikes=True, spikecolor=\"green\", spikesnap=\"cursor\", spikemode=\"across\")\n",
    "        fig.update_yaxes(showspikes=True, spikecolor=\"orange\", spikethickness=2)\n",
    "        #fig_temp.layout.yaxis.range = [-50, 110]\n",
    "        #Hover\n",
    "        fig.update_layout(spikedistance=1000, hoverdistance=100)\n",
    "        fig.layout.hovermode = 'x'\n",
    "        #Margins on sides, top and bottom\n",
    "        fig.layout.margin['t'] = 30\n",
    "        fig.layout.margin['b'] = 8\n",
    "        #Labels size\n",
    "        fig.layout.xaxis.tickfont.size = 10 #X axis text size\n",
    "        #Background\n",
    "        fig.layout.paper_bgcolor='rgba(0,0,0,0)'\n",
    "        fig.layout.plot_bgcolor='rgba(0,0,0,0)'\n",
    "        fig.layout.legend.bgcolor='rgba(0,0,0,0)'\n",
    "\n",
    "        #Save to file to chosen directory\n",
    "        fig.write_image(dirPlot + \"\\\\\" + file_name + \".pdf\", width = resolution[0], height = resolution[1], scale = 1) #Save in PDF\n",
    "        plotly.offline.plot(fig, filename = file) # Save HTML\n",
    "        \n",
    "        return {\n",
    "            \"Title\":title,\n",
    "            \"Figure\":fig,\n",
    "            \"Columns\":yColumns1 + yColumns2,\n",
    "            \"yTitle\": yTitle1 + \"/\" + yTitle2\n",
    "        }\n",
    "    else:\n",
    "        print(\"Not all columns were found in the DataFrame\")"
   ]
  },
  {
   "cell_type": "markdown",
   "id": "233b742e-2d17-4781-92d5-23ed4457ec5f",
   "metadata": {},
   "source": [
    "### _Get length and step of the axis of a given figure_"
   ]
  },
  {
   "cell_type": "code",
   "execution_count": 7,
   "id": "92348cd3-f1ba-4e95-bb99-2333058de1f8",
   "metadata": {},
   "outputs": [],
   "source": [
    "#Returns the step in the given axis\n",
    "def get_step(fig, axis):\n",
    "    axis = axis.lower()\n",
    "    if(axis == \"x\"):\n",
    "        step = fig.data[0][axis][1]\n",
    "    elif(axis == \"y\"):\n",
    "        step = fig.data[0][axis][1]\n",
    "    else:\n",
    "        print(\"Invalid arguments. Use x or y\")\n",
    "        step = 1\n",
    "    return step\n",
    "\n",
    "#Returns the maximum value of the given axis\n",
    "def get_length(fig, axis):\n",
    "    axis = axis.lower()\n",
    "    if(axis == \"x\"):\n",
    "        length = fig.data[0][axis].max()\n",
    "    elif(axis == \"y\"):\n",
    "        length = fig.data[0][axis].max()\n",
    "    else:\n",
    "        print(\"Invalid arguments. Use x or y\")\n",
    "        length = 1\n",
    "    return length"
   ]
  },
  {
   "cell_type": "markdown",
   "id": "420276f1-8c8c-48ab-82a7-a167279b01da",
   "metadata": {},
   "source": [
    "### _Axes layout for subplots_"
   ]
  },
  {
   "cell_type": "code",
   "execution_count": 8,
   "id": "1733ccd6-5f07-4806-b95f-abd39dd52800",
   "metadata": {},
   "outputs": [],
   "source": [
    "def grid_layout(figure, fig, i):\n",
    "    if(i == 1):\n",
    "        #figure.layout.xaxis1.tickfont.size = 10\n",
    "        figure.layout.yaxis1.title = fig[\"yTitle\"]         \n",
    "        figure.layout.xaxis.gridcolor=\"rgb(159, 197, 232)\"\n",
    "        figure.layout.yaxis.gridcolor=\"rgb(159, 197, 232)\"\n",
    "    if(i == 2):\n",
    "        #figure.layout.xaxis2.tickfont.size = 10\n",
    "        figure.layout.yaxis2.title = fig[\"yTitle\"]         \n",
    "        figure.layout.xaxis2.gridcolor=\"rgb(159, 197, 232)\"\n",
    "        figure.layout.yaxis2.gridcolor=\"rgb(159, 197, 232)\"\n",
    "    if(i == 3):\n",
    "        #figure.layout.xaxis3.tickfont.size = 10\n",
    "        figure.layout.yaxis3.title = fig[\"yTitle\"]         \n",
    "        figure.layout.xaxis3.gridcolor=\"rgb(159, 197, 232)\"\n",
    "        figure.layout.yaxis3.gridcolor=\"rgb(159, 197, 232)\"\n",
    "    if(i == 4):\n",
    "        #figure.layout.xaxis4.tickfont.size = 10\n",
    "        figure.layout.yaxis4.title = fig[\"yTitle\"]         \n",
    "        figure.layout.xaxis4.gridcolor=\"rgb(159, 197, 232)\"\n",
    "        figure.layout.yaxis4.gridcolor=\"rgb(159, 197, 232)\"        "
   ]
  },
  {
   "cell_type": "markdown",
   "id": "28940343-09f7-4a0a-8c3c-20182b3058fa",
   "metadata": {},
   "source": [
    "### _Axes titles for subplots_"
   ]
  },
  {
   "cell_type": "code",
   "execution_count": 9,
   "id": "34a3fb19-9213-4f77-b0da-8f5c20a14dd4",
   "metadata": {},
   "outputs": [],
   "source": [
    "def xaxis_layout(figure, title, i):\n",
    "    if(i == 1):\n",
    "        figure.update_xaxes(title_text=title, row=i, col=1)\n",
    "        figure.layout.xaxis1.tickfont.size = 10        \n",
    "    if(i == 2):\n",
    "        figure.update_xaxes(title_text=title, row=i, col=1)\n",
    "        figure.layout.xaxis2.tickfont.size = 10\n",
    "    if(i == 3):\n",
    "        figure.update_xaxes(title_text=title, row=i, col=1)\n",
    "        figure.layout.xaxis3.tickfont.size = 10\n",
    "    if(i == 4):\n",
    "        figure.update_xaxes(title_text=title, row=i, col=1)\n",
    "        figure.layout.xaxis4.tickfont.size = 10"
   ]
  },
  {
   "cell_type": "markdown",
   "id": "3c7a9d8a-012b-4eea-8c42-7a65f94f9f2e",
   "metadata": {},
   "source": [
    "### _Create subplots_"
   ]
  },
  {
   "cell_type": "code",
   "execution_count": 10,
   "id": "87d6cc94-57d4-4017-a854-34147206427e",
   "metadata": {},
   "outputs": [],
   "source": [
    "def plot_figs(title, *figs):\n",
    "    n_subplots = len(figs)\n",
    "    titles = [i[\"Title\"] for i in figs]\n",
    "    figure = plotly.subplots.make_subplots(rows=n_subplots, cols=1, shared_xaxes=True, vertical_spacing=0.05, subplot_titles = titles)\n",
    "    if(n_subplots <= 4):    \n",
    "        #Combine plots\n",
    "        for count, fig in enumerate(figs):\n",
    "            #Plot everything from the given figure in the subplot\n",
    "            for i in range(len(fig[\"Columns\"])):\n",
    "                fig_i = fig[\"Figure\"] #Get current figure\n",
    "                figure.append_trace(fig_i.data[i], row=count+1, col=1)\n",
    "            grid_layout(figure, fig, count+1)    \n",
    "            figure.update_xaxes(showgrid=True, row=count+1, col=1)\n",
    "            figure.update_yaxes(showgrid=True, row=count+1, col=1)\n",
    "            if(count+1 == n_subplots):\n",
    "                xaxis_layout(figure,\"Time[h]\",count+1)\n",
    "\n",
    "        #Edit format\n",
    "        figure.layout.hovermode = 'x'\n",
    "        file_name = test + \" - \" + title\n",
    "        figure.layout.title.text = test\n",
    "        #figure.layout.yaxis.range = [-45, 115]\n",
    "        #figure.layout.yaxis3.range = [0, 500]\n",
    "        figure.layout.paper_bgcolor='rgba(0,0,0,0)'\n",
    "        figure.layout.plot_bgcolor='rgba(0,0,0,0)'\n",
    "        figure.layout.legend.bgcolor='rgba(0,0,0,0)'\n",
    "\n",
    "        #Show plot\n",
    "        plotly.offline.plot(figure, filename = file_name + file_type)\n",
    "        figure.write_image(dirPlot + \"\\\\\" + file + \".pdf\", width = resolution[0], height = resolution[1], scale = 1)\n",
    "    else:\n",
    "        print(\"Number of figures must be lower than 4\")"
   ]
  },
  {
   "cell_type": "markdown",
   "id": "ecc0aac0-f515-4a72-bd17-5bba6207928a",
   "metadata": {},
   "source": [
    "### _Timer_"
   ]
  },
  {
   "cell_type": "code",
   "execution_count": 11,
   "id": "33dd91ad-c1b5-4322-85c9-7f4a6e1343a0",
   "metadata": {},
   "outputs": [],
   "source": [
    "#Temporizador\n",
    "class Timer:\n",
    "\n",
    "    def __init__(self):\n",
    "        self.start = time.time()\n",
    "\n",
    "    def start(self):\n",
    "        self.start = time.time()\n",
    "\n",
    "    def log(self):\n",
    "        logger = time.time() - self.start\n",
    "        print('Tiempo de procesamiento: ',logger, \"s\")\n",
    "\n",
    "    def milestone(self):\n",
    "        self.start = time.time()"
   ]
  },
  {
   "cell_type": "markdown",
   "id": "7108629f-ab55-4144-90bd-deb71ed99f8a",
   "metadata": {},
   "source": [
    "### _Request Project_"
   ]
  },
  {
   "cell_type": "code",
   "execution_count": 12,
   "id": "d74732cc-9d65-402d-bfa9-7b18b222d265",
   "metadata": {},
   "outputs": [],
   "source": [
    "project_question = {\n",
    "    \"Introduce Project\":\n",
    "    {\n",
    "        1: \"STEP1\",\n",
    "        2: \"BEV\",\n",
    "        3: \"PHEV\"\n",
    "    }\n",
    "}\n",
    "def ask_question(questions):\n",
    "    prompt = \">>>\"\n",
    "    for question, choices in questions.items():\n",
    "        print(question)\n",
    "        for n, choice in choices.items():\n",
    "            print(n, \": \", choice)            \n",
    "    answer = input(prompt = prompt)\n",
    "\n",
    "    return answer"
   ]
  },
  {
   "cell_type": "markdown",
   "id": "58f1259d-5b4f-4895-aa2c-0af054e53e02",
   "metadata": {},
   "source": [
    "### _Check Question_"
   ]
  },
  {
   "cell_type": "code",
   "execution_count": 13,
   "id": "1392345d-f03b-43b6-9ba6-46a3aa3b0bc0",
   "metadata": {},
   "outputs": [],
   "source": [
    "def check_question(questions, answer):\n",
    "    check = False\n",
    "    for question, choices in questions.items():\n",
    "        for n, choice in choices.items():\n",
    "            if str(answer) == str(n):\n",
    "                check = True\n",
    "                print(choice, \" selected.\")\n",
    "    return check"
   ]
  },
  {
   "cell_type": "code",
   "execution_count": 14,
   "id": "d50416fe-7f17-4232-908e-6dce7ff8bf5d",
   "metadata": {},
   "outputs": [],
   "source": [
    "def get_pair_answer(questions, answer):    \n",
    "    for question, choices in questions.items():\n",
    "        for n, choice in choices.items():\n",
    "            if str(answer) == str(n):\n",
    "                return [n, choice]"
   ]
  },
  {
   "cell_type": "code",
   "execution_count": 15,
   "id": "75ce81d7-4c73-4f0c-91ce-e049bef2fedc",
   "metadata": {},
   "outputs": [],
   "source": [
    "def request_project(question):\n",
    "    check = False\n",
    "    count = 0\n",
    "    while(check == False & count < 5):\n",
    "        answer = ask_question(question)\n",
    "        check = check_question(question,answer)\n",
    "        count+=1\n",
    "        if count == 5:\n",
    "            print(\"Project not selected. STEP1 will be used.\")\n",
    "            answer = 1\n",
    "    return get_pair_answer(question, answer)"
   ]
  },
  {
   "cell_type": "code",
   "execution_count": null,
   "id": "acacd583-6a60-48ee-a7ae-f6cbeadca331",
   "metadata": {},
   "outputs": [],
   "source": []
  }
 ],
 "metadata": {
  "kernelspec": {
   "display_name": "Python 3 (ipykernel)",
   "language": "python",
   "name": "python3"
  },
  "language_info": {
   "codemirror_mode": {
    "name": "ipython",
    "version": 3
   },
   "file_extension": ".py",
   "mimetype": "text/x-python",
   "name": "python",
   "nbconvert_exporter": "python",
   "pygments_lexer": "ipython3",
   "version": "3.10.2"
  }
 },
 "nbformat": 4,
 "nbformat_minor": 5
}
